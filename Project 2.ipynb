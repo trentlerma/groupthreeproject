{
 "cells": [
  {
   "cell_type": "code",
   "execution_count": 26,
   "metadata": {},
   "outputs": [],
   "source": [
    "# Import the data\n",
    "import pandas as pd\n",
    "import numpy as np\n",
    "from sklearn.model_selection import train_test_split\n",
    "from sklearn.metrics import balanced_accuracy_score\n",
    "from sklearn.preprocessing import OneHotEncoder, OrdinalEncoder\n",
    "\n"
   ]
  },
  {
   "cell_type": "code",
   "execution_count": 28,
   "metadata": {},
   "outputs": [],
   "source": [
    "# Load the dataset into a pandas DataFrame\n",
    "\n",
    "Real_Estate_data_df = pd.read_csv('USA Real Estate Dataset new.csv')\n"
   ]
  },
  {
   "cell_type": "code",
   "execution_count": 29,
   "metadata": {},
   "outputs": [
    {
     "name": "stdout",
     "output_type": "stream",
     "text": [
      "<class 'pandas.core.frame.DataFrame'>\n",
      "RangeIndex: 40111 entries, 0 to 40110\n",
      "Data columns (total 12 columns):\n",
      " #   Column          Non-Null Count  Dtype  \n",
      "---  ------          --------------  -----  \n",
      " 0   brokered_by     40093 non-null  float64\n",
      " 1   status          40111 non-null  object \n",
      " 2   price           40053 non-null  float64\n",
      " 3   bed             28761 non-null  float64\n",
      " 4   bath            27158 non-null  float64\n",
      " 5   acre_lot        36224 non-null  float64\n",
      " 6   street          40004 non-null  float64\n",
      " 7   city            40094 non-null  object \n",
      " 8   state           40111 non-null  object \n",
      " 9   zip_code        40111 non-null  int64  \n",
      " 10  house_size      28903 non-null  float64\n",
      " 11  prev_sold_date  15315 non-null  object \n",
      "dtypes: float64(7), int64(1), object(4)\n",
      "memory usage: 3.7+ MB\n",
      "None\n"
     ]
    }
   ],
   "source": [
    "# Display the basic information of the dataframe\n",
    "print(Real_Estate_data_df.info())"
   ]
  },
  {
   "cell_type": "code",
   "execution_count": 4,
   "metadata": {},
   "outputs": [
    {
     "name": "stdout",
     "output_type": "stream",
     "text": [
      "         brokered_by         price           bed          bath      acre_lot  \\\n",
      "count   40093.000000  4.005300e+04  28761.000000  27158.000000  36224.000000   \n",
      "mean    52715.409997  4.856361e+05      3.476931      2.678548     11.630184   \n",
      "std     29786.509676  8.704503e+05      1.337864      1.212267    106.481943   \n",
      "min        51.000000  0.000000e+00      1.000000      1.000000      0.000000   \n",
      "25%     26918.000000  1.800000e+05      3.000000      2.000000      0.170000   \n",
      "50%     52410.000000  3.400000e+05      3.000000      2.000000      0.340000   \n",
      "75%     78031.000000  5.199000e+05      4.000000      3.000000      2.010000   \n",
      "max    110142.000000  3.468000e+07     99.000000     25.000000   7085.560000   \n",
      "\n",
      "             street      zip_code    house_size  \n",
      "count  4.000400e+04  40111.000000  28903.000000  \n",
      "mean   1.060828e+06  75815.313355   2314.157354  \n",
      "std    6.059690e+05    772.033707   1379.643195  \n",
      "min    2.300000e+01  11111.000000    100.000000  \n",
      "25%    5.323715e+05  75206.000000   1590.000000  \n",
      "50%    1.079374e+06  75766.000000   2049.000000  \n",
      "75%    1.602994e+06  76123.000000   2741.000000  \n",
      "max    2.001306e+06  95760.000000  69734.000000  \n"
     ]
    }
   ],
   "source": [
    "# summary statistics\n",
    "print(Real_Estate_data_df.describe())"
   ]
  },
  {
   "cell_type": "code",
   "execution_count": 7,
   "metadata": {},
   "outputs": [
    {
     "name": "stdout",
     "output_type": "stream",
     "text": [
      "brokered_by          18\n",
      "status                0\n",
      "price                58\n",
      "bed               11350\n",
      "bath              12953\n",
      "acre_lot           3887\n",
      "street              107\n",
      "city                 17\n",
      "state                 0\n",
      "zip_code              0\n",
      "house_size        11208\n",
      "prev_sold_date    24796\n",
      "dtype: int64\n"
     ]
    }
   ],
   "source": [
    "# checking for no values\n",
    "print(Real_Estate_data_df.isnull().sum())"
   ]
  },
  {
   "cell_type": "code",
   "execution_count": 30,
   "metadata": {},
   "outputs": [
    {
     "name": "stdout",
     "output_type": "stream",
     "text": [
      "0\n"
     ]
    }
   ],
   "source": [
    "# Checking for duplicates\n",
    "print(Real_Estate_data_df.duplicated().sum())"
   ]
  },
  {
   "cell_type": "code",
   "execution_count": 16,
   "metadata": {},
   "outputs": [],
   "source": [
    "# dropping missing values\n",
    "Real_Estate_data_clean_df = Real_Estate_data_df.dropna()"
   ]
  },
  {
   "cell_type": "code",
   "execution_count": 19,
   "metadata": {},
   "outputs": [
    {
     "data": {
      "text/html": [
       "<div>\n",
       "<style scoped>\n",
       "    .dataframe tbody tr th:only-of-type {\n",
       "        vertical-align: middle;\n",
       "    }\n",
       "\n",
       "    .dataframe tbody tr th {\n",
       "        vertical-align: top;\n",
       "    }\n",
       "\n",
       "    .dataframe thead th {\n",
       "        text-align: right;\n",
       "    }\n",
       "</style>\n",
       "<table border=\"1\" class=\"dataframe\">\n",
       "  <thead>\n",
       "    <tr style=\"text-align: right;\">\n",
       "      <th></th>\n",
       "      <th>brokered_by</th>\n",
       "      <th>status</th>\n",
       "      <th>price</th>\n",
       "      <th>bed</th>\n",
       "      <th>bath</th>\n",
       "      <th>acre_lot</th>\n",
       "      <th>street</th>\n",
       "      <th>city</th>\n",
       "      <th>state</th>\n",
       "      <th>zip_code</th>\n",
       "      <th>house_size</th>\n",
       "      <th>prev_sold_date</th>\n",
       "    </tr>\n",
       "  </thead>\n",
       "  <tbody>\n",
       "    <tr>\n",
       "      <th>18</th>\n",
       "      <td>22959.0</td>\n",
       "      <td>for_sale</td>\n",
       "      <td>349000.0</td>\n",
       "      <td>6.0</td>\n",
       "      <td>5.0</td>\n",
       "      <td>4.41</td>\n",
       "      <td>307395.0</td>\n",
       "      <td>Newton</td>\n",
       "      <td>Texas</td>\n",
       "      <td>75966</td>\n",
       "      <td>5888.0</td>\n",
       "      <td>2014-06-17</td>\n",
       "    </tr>\n",
       "    <tr>\n",
       "      <th>19</th>\n",
       "      <td>106174.0</td>\n",
       "      <td>for_sale</td>\n",
       "      <td>249500.0</td>\n",
       "      <td>2.0</td>\n",
       "      <td>2.0</td>\n",
       "      <td>1.19</td>\n",
       "      <td>363547.0</td>\n",
       "      <td>Hemphill</td>\n",
       "      <td>Texas</td>\n",
       "      <td>75948</td>\n",
       "      <td>1872.0</td>\n",
       "      <td>2022-04-28</td>\n",
       "    </tr>\n",
       "    <tr>\n",
       "      <th>23</th>\n",
       "      <td>4317.0</td>\n",
       "      <td>for_sale</td>\n",
       "      <td>479000.0</td>\n",
       "      <td>5.0</td>\n",
       "      <td>4.0</td>\n",
       "      <td>6.28</td>\n",
       "      <td>840246.0</td>\n",
       "      <td>Newton</td>\n",
       "      <td>Texas</td>\n",
       "      <td>75966</td>\n",
       "      <td>4248.0</td>\n",
       "      <td>2022-05-06</td>\n",
       "    </tr>\n",
       "    <tr>\n",
       "      <th>27</th>\n",
       "      <td>100789.0</td>\n",
       "      <td>for_sale</td>\n",
       "      <td>179900.0</td>\n",
       "      <td>3.0</td>\n",
       "      <td>2.0</td>\n",
       "      <td>2.23</td>\n",
       "      <td>439804.0</td>\n",
       "      <td>Burkeville</td>\n",
       "      <td>Texas</td>\n",
       "      <td>75932</td>\n",
       "      <td>1240.0</td>\n",
       "      <td>2022-01-28</td>\n",
       "    </tr>\n",
       "    <tr>\n",
       "      <th>28</th>\n",
       "      <td>30107.0</td>\n",
       "      <td>for_sale</td>\n",
       "      <td>134900.0</td>\n",
       "      <td>4.0</td>\n",
       "      <td>2.0</td>\n",
       "      <td>0.29</td>\n",
       "      <td>1463813.0</td>\n",
       "      <td>Newton</td>\n",
       "      <td>Texas</td>\n",
       "      <td>75966</td>\n",
       "      <td>2010.0</td>\n",
       "      <td>2021-07-29</td>\n",
       "    </tr>\n",
       "  </tbody>\n",
       "</table>\n",
       "</div>"
      ],
      "text/plain": [
       "    brokered_by    status     price  bed  bath  acre_lot     street  \\\n",
       "18      22959.0  for_sale  349000.0  6.0   5.0      4.41   307395.0   \n",
       "19     106174.0  for_sale  249500.0  2.0   2.0      1.19   363547.0   \n",
       "23       4317.0  for_sale  479000.0  5.0   4.0      6.28   840246.0   \n",
       "27     100789.0  for_sale  179900.0  3.0   2.0      2.23   439804.0   \n",
       "28      30107.0  for_sale  134900.0  4.0   2.0      0.29  1463813.0   \n",
       "\n",
       "          city  state  zip_code  house_size prev_sold_date  \n",
       "18      Newton  Texas     75966      5888.0     2014-06-17  \n",
       "19    Hemphill  Texas     75948      1872.0     2022-04-28  \n",
       "23      Newton  Texas     75966      4248.0     2022-05-06  \n",
       "27  Burkeville  Texas     75932      1240.0     2022-01-28  \n",
       "28      Newton  Texas     75966      2010.0     2021-07-29  "
      ]
     },
     "execution_count": 19,
     "metadata": {},
     "output_type": "execute_result"
    }
   ],
   "source": [
    "# Verifying changes\n",
    "Real_Estate_data_clean_df.head()"
   ]
  },
  {
   "cell_type": "code",
   "execution_count": 22,
   "metadata": {},
   "outputs": [
    {
     "data": {
      "text/plain": [
       "brokered_by       float64\n",
       "status             object\n",
       "price             float64\n",
       "bed               float64\n",
       "bath              float64\n",
       "acre_lot          float64\n",
       "street            float64\n",
       "city               object\n",
       "state              object\n",
       "zip_code            int64\n",
       "house_size        float64\n",
       "prev_sold_date     object\n",
       "dtype: object"
      ]
     },
     "execution_count": 22,
     "metadata": {},
     "output_type": "execute_result"
    }
   ],
   "source": [
    "# Listing the data types\n",
    "Real_Estate_data_clean_df.dtypes"
   ]
  },
  {
   "cell_type": "code",
   "execution_count": 25,
   "metadata": {},
   "outputs": [
    {
     "data": {
      "text/plain": [
       "<bound method DataFrame.value_counts of        brokered_by    status     price  bed  bath  acre_lot     street  \\\n",
       "18         22959.0  for_sale  349000.0  6.0   5.0      4.41   307395.0   \n",
       "19        106174.0  for_sale  249500.0  2.0   2.0      1.19   363547.0   \n",
       "23          4317.0  for_sale  479000.0  5.0   4.0      6.28   840246.0   \n",
       "27        100789.0  for_sale  179900.0  3.0   2.0      2.23   439804.0   \n",
       "28         30107.0  for_sale  134900.0  4.0   2.0      0.29  1463813.0   \n",
       "...            ...       ...       ...  ...   ...       ...        ...   \n",
       "40082      81759.0  for_sale  325000.0  4.0   3.0      0.30  1198000.0   \n",
       "40083      92851.0  for_sale  305900.0  4.0   3.0      0.18   771508.0   \n",
       "40084     109440.0  for_sale  380000.0  4.0   3.0      0.38   665554.0   \n",
       "40086      70650.0  for_sale  303000.0  4.0   2.0      0.24   443392.0   \n",
       "40087      92851.0  for_sale  269000.0  4.0   2.0      0.19   760137.0   \n",
       "\n",
       "                 city  state  zip_code  house_size prev_sold_date  \n",
       "18             Newton  Texas     75966      5888.0     2014-06-17  \n",
       "19           Hemphill  Texas     75948      1872.0     2022-04-28  \n",
       "23             Newton  Texas     75966      4248.0     2022-05-06  \n",
       "27         Burkeville  Texas     75932      1240.0     2022-01-28  \n",
       "28             Newton  Texas     75966      2010.0     2021-07-29  \n",
       "...               ...    ...       ...         ...            ...  \n",
       "40082  Harker Heights  Texas     76548      2864.0     2015-05-01  \n",
       "40083  Harker Heights  Texas     76548      2604.0     2008-01-04  \n",
       "40084  Harker Heights  Texas     76548      2411.0     2020-06-16  \n",
       "40086  Harker Heights  Texas     76548      2089.0     2017-07-27  \n",
       "40087  Harker Heights  Texas     76548      2021.0     2010-05-25  \n",
       "\n",
       "[13363 rows x 12 columns]>"
      ]
     },
     "execution_count": 25,
     "metadata": {},
     "output_type": "execute_result"
    }
   ],
   "source": [
    "# Check the value_counts of the target column\n",
    "Real_Estate_data_clean_df.value_counts"
   ]
  }
 ],
 "metadata": {
  "kernelspec": {
   "display_name": "base",
   "language": "python",
   "name": "python3"
  },
  "language_info": {
   "codemirror_mode": {
    "name": "ipython",
    "version": 3
   },
   "file_extension": ".py",
   "mimetype": "text/x-python",
   "name": "python",
   "nbconvert_exporter": "python",
   "pygments_lexer": "ipython3",
   "version": "3.10.14"
  }
 },
 "nbformat": 4,
 "nbformat_minor": 2
}
