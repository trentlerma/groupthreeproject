{
 "cells": [
  {
   "cell_type": "markdown",
   "metadata": {},
   "source": [
    "# Import Libraries"
   ]
  },
  {
   "cell_type": "code",
   "execution_count": 59,
   "metadata": {},
   "outputs": [],
   "source": [
    "# Import the data\n",
    "import pandas as pd\n",
    "import numpy as np\n",
    "from sklearn.model_selection import train_test_split\n",
    "from sklearn.metrics import balanced_accuracy_score\n",
    "from sklearn.preprocessing import OneHotEncoder, OrdinalEncoder\n",
    "import matplotlib.pyplot as plt\n",
    "from sklearn.model_selection import train_test_split\n",
    "from sklearn.metrics import classification_report\n",
    "from sklearn.preprocessing import StandardScaler\n",
    "from sklearn.preprocessing import LabelEncoder\n",
    "\n"
   ]
  },
  {
   "cell_type": "markdown",
   "metadata": {},
   "source": [
    "# Load Dataset\n",
    "This dataset features real estate listings across the United States, categorized by state and zip code. The original dataset, sourced from Kaggle, contained 2.2 million entries. We narrowed down the data by focusing exclusively on properties in Texas, resulting in a reduced dataset with 12 columns and 40,111 rows.\n"
   ]
  },
  {
   "cell_type": "code",
   "execution_count": 5,
   "metadata": {},
   "outputs": [],
   "source": [
    "# Load the dataset into a pandas DataFrame\n",
    "\n",
    "Real_Estate_data_df = pd.read_csv('USA Real Estate Dataset new.csv')\n"
   ]
  },
  {
   "cell_type": "code",
   "execution_count": 6,
   "metadata": {},
   "outputs": [
    {
     "data": {
      "text/html": [
       "<div>\n",
       "<style scoped>\n",
       "    .dataframe tbody tr th:only-of-type {\n",
       "        vertical-align: middle;\n",
       "    }\n",
       "\n",
       "    .dataframe tbody tr th {\n",
       "        vertical-align: top;\n",
       "    }\n",
       "\n",
       "    .dataframe thead th {\n",
       "        text-align: right;\n",
       "    }\n",
       "</style>\n",
       "<table border=\"1\" class=\"dataframe\">\n",
       "  <thead>\n",
       "    <tr style=\"text-align: right;\">\n",
       "      <th></th>\n",
       "      <th>brokered_by</th>\n",
       "      <th>status</th>\n",
       "      <th>price</th>\n",
       "      <th>bed</th>\n",
       "      <th>bath</th>\n",
       "      <th>acre_lot</th>\n",
       "      <th>street</th>\n",
       "      <th>city</th>\n",
       "      <th>state</th>\n",
       "      <th>zip_code</th>\n",
       "      <th>house_size</th>\n",
       "      <th>prev_sold_date</th>\n",
       "    </tr>\n",
       "  </thead>\n",
       "  <tbody>\n",
       "    <tr>\n",
       "      <th>0</th>\n",
       "      <td>33968.0</td>\n",
       "      <td>for_sale</td>\n",
       "      <td>99000.0</td>\n",
       "      <td>1.0</td>\n",
       "      <td>1.0</td>\n",
       "      <td>5.0</td>\n",
       "      <td>49388.0</td>\n",
       "      <td>Terlingua</td>\n",
       "      <td>Texas</td>\n",
       "      <td>79852</td>\n",
       "      <td>600.0</td>\n",
       "      <td>NaN</td>\n",
       "    </tr>\n",
       "    <tr>\n",
       "      <th>1</th>\n",
       "      <td>88188.0</td>\n",
       "      <td>for_sale</td>\n",
       "      <td>58800.0</td>\n",
       "      <td>NaN</td>\n",
       "      <td>NaN</td>\n",
       "      <td>1.0</td>\n",
       "      <td>841041.0</td>\n",
       "      <td>Orange</td>\n",
       "      <td>Texas</td>\n",
       "      <td>77632</td>\n",
       "      <td>NaN</td>\n",
       "      <td>NaN</td>\n",
       "    </tr>\n",
       "    <tr>\n",
       "      <th>2</th>\n",
       "      <td>88188.0</td>\n",
       "      <td>for_sale</td>\n",
       "      <td>58800.0</td>\n",
       "      <td>NaN</td>\n",
       "      <td>NaN</td>\n",
       "      <td>1.0</td>\n",
       "      <td>844563.0</td>\n",
       "      <td>Orange</td>\n",
       "      <td>Texas</td>\n",
       "      <td>77632</td>\n",
       "      <td>NaN</td>\n",
       "      <td>NaN</td>\n",
       "    </tr>\n",
       "    <tr>\n",
       "      <th>3</th>\n",
       "      <td>88188.0</td>\n",
       "      <td>for_sale</td>\n",
       "      <td>58800.0</td>\n",
       "      <td>NaN</td>\n",
       "      <td>NaN</td>\n",
       "      <td>1.0</td>\n",
       "      <td>845421.0</td>\n",
       "      <td>Orange</td>\n",
       "      <td>Texas</td>\n",
       "      <td>77632</td>\n",
       "      <td>NaN</td>\n",
       "      <td>NaN</td>\n",
       "    </tr>\n",
       "    <tr>\n",
       "      <th>4</th>\n",
       "      <td>88188.0</td>\n",
       "      <td>for_sale</td>\n",
       "      <td>58800.0</td>\n",
       "      <td>NaN</td>\n",
       "      <td>NaN</td>\n",
       "      <td>1.0</td>\n",
       "      <td>859147.0</td>\n",
       "      <td>Orange</td>\n",
       "      <td>Texas</td>\n",
       "      <td>77632</td>\n",
       "      <td>NaN</td>\n",
       "      <td>NaN</td>\n",
       "    </tr>\n",
       "  </tbody>\n",
       "</table>\n",
       "</div>"
      ],
      "text/plain": [
       "   brokered_by    status    price  bed  bath  acre_lot    street       city  \\\n",
       "0      33968.0  for_sale  99000.0  1.0   1.0       5.0   49388.0  Terlingua   \n",
       "1      88188.0  for_sale  58800.0  NaN   NaN       1.0  841041.0     Orange   \n",
       "2      88188.0  for_sale  58800.0  NaN   NaN       1.0  844563.0     Orange   \n",
       "3      88188.0  for_sale  58800.0  NaN   NaN       1.0  845421.0     Orange   \n",
       "4      88188.0  for_sale  58800.0  NaN   NaN       1.0  859147.0     Orange   \n",
       "\n",
       "   state  zip_code  house_size prev_sold_date  \n",
       "0  Texas     79852       600.0            NaN  \n",
       "1  Texas     77632         NaN            NaN  \n",
       "2  Texas     77632         NaN            NaN  \n",
       "3  Texas     77632         NaN            NaN  \n",
       "4  Texas     77632         NaN            NaN  "
      ]
     },
     "execution_count": 6,
     "metadata": {},
     "output_type": "execute_result"
    }
   ],
   "source": [
    "Real_Estate_data_df.head()"
   ]
  },
  {
   "cell_type": "markdown",
   "metadata": {},
   "source": [
    "# Data Exploration and Cleaning\n",
    "\n",
    "In the data exploration phase, we thoroughly examined the dataset to understand its structure, variable types, and key statistics. We utilized visualizations like histograms and scatter plots to identify patterns, relationships, and outliers in the data.\n",
    "\n",
    "For data cleaning, we addressed missing values, removed duplicates, and ensured correct data types for each column. We also drop the columns we dont need for data analysis. The cleaned dataset was then validated and prepared for further analysis or modeling."
   ]
  },
  {
   "cell_type": "code",
   "execution_count": 7,
   "metadata": {},
   "outputs": [
    {
     "data": {
      "text/plain": [
       "(40111, 12)"
      ]
     },
     "execution_count": 7,
     "metadata": {},
     "output_type": "execute_result"
    }
   ],
   "source": [
    "Real_Estate_data_df.shape"
   ]
  },
  {
   "cell_type": "code",
   "execution_count": 8,
   "metadata": {},
   "outputs": [
    {
     "name": "stdout",
     "output_type": "stream",
     "text": [
      "<class 'pandas.core.frame.DataFrame'>\n",
      "RangeIndex: 40111 entries, 0 to 40110\n",
      "Data columns (total 12 columns):\n",
      " #   Column          Non-Null Count  Dtype  \n",
      "---  ------          --------------  -----  \n",
      " 0   brokered_by     40093 non-null  float64\n",
      " 1   status          40111 non-null  object \n",
      " 2   price           40053 non-null  float64\n",
      " 3   bed             28761 non-null  float64\n",
      " 4   bath            27158 non-null  float64\n",
      " 5   acre_lot        36224 non-null  float64\n",
      " 6   street          40004 non-null  float64\n",
      " 7   city            40094 non-null  object \n",
      " 8   state           40111 non-null  object \n",
      " 9   zip_code        40111 non-null  int64  \n",
      " 10  house_size      28903 non-null  float64\n",
      " 11  prev_sold_date  15315 non-null  object \n",
      "dtypes: float64(7), int64(1), object(4)\n",
      "memory usage: 3.7+ MB\n",
      "None\n"
     ]
    }
   ],
   "source": [
    "# Display the basic information of the dataframe\n",
    "print(Real_Estate_data_df.info())"
   ]
  },
  {
   "cell_type": "code",
   "execution_count": 37,
   "metadata": {},
   "outputs": [
    {
     "name": "stdout",
     "output_type": "stream",
     "text": [
      "         brokered_by         price           bed          bath      acre_lot  \\\n",
      "count   40093.000000  4.005300e+04  28761.000000  27158.000000  36224.000000   \n",
      "mean    52715.409997  4.856361e+05      3.476931      2.678548     11.630184   \n",
      "min        51.000000  0.000000e+00      1.000000      1.000000      0.000000   \n",
      "25%     26918.000000  1.800000e+05      3.000000      2.000000      0.170000   \n",
      "50%     52410.000000  3.400000e+05      3.000000      2.000000      0.340000   \n",
      "75%     78031.000000  5.199000e+05      4.000000      3.000000      2.010000   \n",
      "max    110142.000000  3.468000e+07     99.000000     25.000000   7085.560000   \n",
      "std     29786.509676  8.704503e+05      1.337864      1.212267    106.481943   \n",
      "\n",
      "             street      zip_code    house_size                 prev_sold_date  \n",
      "count  4.000400e+04  40111.000000  28903.000000                          15315  \n",
      "mean   1.060828e+06  75815.313355   2314.157354  2014-05-03 11:55:09.461312512  \n",
      "min    2.300000e+01  11111.000000    100.000000            1979-01-01 00:00:00  \n",
      "25%    5.323715e+05  75206.000000   1590.000000            2009-08-25 00:00:00  \n",
      "50%    1.079374e+06  75766.000000   2049.000000            2016-11-02 00:00:00  \n",
      "75%    1.602994e+06  76123.000000   2741.000000            2020-01-17 00:00:00  \n",
      "max    2.001306e+06  95760.000000  69734.000000            2023-02-15 00:00:00  \n",
      "std    6.059690e+05    772.033707   1379.643195                            NaN  \n"
     ]
    }
   ],
   "source": [
    "# summary statistics\n",
    "print(Real_Estate_data_df.describe())"
   ]
  },
  {
   "cell_type": "code",
   "execution_count": 38,
   "metadata": {},
   "outputs": [
    {
     "data": {
      "text/plain": [
       "brokered_by              float64\n",
       "status                    object\n",
       "price                    float64\n",
       "bed                      float64\n",
       "bath                     float64\n",
       "acre_lot                 float64\n",
       "street                   float64\n",
       "city                      object\n",
       "state                     object\n",
       "zip_code                   int64\n",
       "house_size               float64\n",
       "prev_sold_date    datetime64[ns]\n",
       "dtype: object"
      ]
     },
     "execution_count": 38,
     "metadata": {},
     "output_type": "execute_result"
    }
   ],
   "source": [
    "Real_Estate_data_df.dtypes"
   ]
  },
  {
   "cell_type": "code",
   "execution_count": 40,
   "metadata": {},
   "outputs": [
    {
     "name": "stdout",
     "output_type": "stream",
     "text": [
      "status\n",
      "for_sale          38497\n",
      "ready_to_build     1614\n",
      "Name: count, dtype: int64\n"
     ]
    }
   ],
   "source": [
    "# Check the value counts\n",
    "print(Real_Estate_data_df['status'].value_counts())"
   ]
  },
  {
   "cell_type": "code",
   "execution_count": 47,
   "metadata": {},
   "outputs": [
    {
     "name": "stdout",
     "output_type": "stream",
     "text": [
      "brokered_by          18\n",
      "status                0\n",
      "price                58\n",
      "bed               11350\n",
      "bath              12953\n",
      "acre_lot           3887\n",
      "street              107\n",
      "city                 17\n",
      "state                 0\n",
      "zip_code              0\n",
      "house_size        11208\n",
      "prev_sold_date    24796\n",
      "dtype: int64\n"
     ]
    }
   ],
   "source": [
    "# checking for missing values\n",
    "print(Real_Estate_data_df.isnull().sum())"
   ]
  },
  {
   "cell_type": "code",
   "execution_count": 62,
   "metadata": {},
   "outputs": [
    {
     "name": "stdout",
     "output_type": "stream",
     "text": [
      "0\n"
     ]
    }
   ],
   "source": [
    "# Checking for duplicates\n",
    "print(Real_Estate_data_df.duplicated().sum())"
   ]
  },
  {
   "cell_type": "code",
   "execution_count": 49,
   "metadata": {},
   "outputs": [],
   "source": [
    "# Convert prev_sold_date to datetime\n",
    "Real_Estate_data_df['prev_sold_date'] = pd.to_datetime(Real_Estate_data_df['prev_sold_date'])"
   ]
  },
  {
   "cell_type": "code",
   "execution_count": 50,
   "metadata": {},
   "outputs": [],
   "source": [
    "# dropping missing values\n",
    "Clean_data_df = Real_Estate_data_df.dropna()"
   ]
  },
  {
   "cell_type": "code",
   "execution_count": 51,
   "metadata": {},
   "outputs": [],
   "source": [
    "Clean_data_df=Clean_data_df.drop(columns=['brokered_by', 'street'])"
   ]
  },
  {
   "cell_type": "code",
   "execution_count": 52,
   "metadata": {},
   "outputs": [
    {
     "name": "stdout",
     "output_type": "stream",
     "text": [
      "status            0\n",
      "price             0\n",
      "bed               0\n",
      "bath              0\n",
      "acre_lot          0\n",
      "city              0\n",
      "state             0\n",
      "zip_code          0\n",
      "house_size        0\n",
      "prev_sold_date    0\n",
      "dtype: int64\n"
     ]
    }
   ],
   "source": [
    "# Verifying that there no more missing datas\n",
    "print(Clean_data_df.isnull().sum())"
   ]
  },
  {
   "cell_type": "code",
   "execution_count": 54,
   "metadata": {},
   "outputs": [
    {
     "data": {
      "text/html": [
       "<div>\n",
       "<style scoped>\n",
       "    .dataframe tbody tr th:only-of-type {\n",
       "        vertical-align: middle;\n",
       "    }\n",
       "\n",
       "    .dataframe tbody tr th {\n",
       "        vertical-align: top;\n",
       "    }\n",
       "\n",
       "    .dataframe thead th {\n",
       "        text-align: right;\n",
       "    }\n",
       "</style>\n",
       "<table border=\"1\" class=\"dataframe\">\n",
       "  <thead>\n",
       "    <tr style=\"text-align: right;\">\n",
       "      <th></th>\n",
       "      <th>status</th>\n",
       "      <th>price</th>\n",
       "      <th>bed</th>\n",
       "      <th>bath</th>\n",
       "      <th>acre_lot</th>\n",
       "      <th>city</th>\n",
       "      <th>state</th>\n",
       "      <th>zip_code</th>\n",
       "      <th>house_size</th>\n",
       "      <th>prev_sold_date</th>\n",
       "    </tr>\n",
       "  </thead>\n",
       "  <tbody>\n",
       "    <tr>\n",
       "      <th>18</th>\n",
       "      <td>for_sale</td>\n",
       "      <td>349000.0</td>\n",
       "      <td>6.0</td>\n",
       "      <td>5.0</td>\n",
       "      <td>4.41</td>\n",
       "      <td>Newton</td>\n",
       "      <td>Texas</td>\n",
       "      <td>75966</td>\n",
       "      <td>5888.0</td>\n",
       "      <td>2014-06-17</td>\n",
       "    </tr>\n",
       "    <tr>\n",
       "      <th>19</th>\n",
       "      <td>for_sale</td>\n",
       "      <td>249500.0</td>\n",
       "      <td>2.0</td>\n",
       "      <td>2.0</td>\n",
       "      <td>1.19</td>\n",
       "      <td>Hemphill</td>\n",
       "      <td>Texas</td>\n",
       "      <td>75948</td>\n",
       "      <td>1872.0</td>\n",
       "      <td>2022-04-28</td>\n",
       "    </tr>\n",
       "    <tr>\n",
       "      <th>23</th>\n",
       "      <td>for_sale</td>\n",
       "      <td>479000.0</td>\n",
       "      <td>5.0</td>\n",
       "      <td>4.0</td>\n",
       "      <td>6.28</td>\n",
       "      <td>Newton</td>\n",
       "      <td>Texas</td>\n",
       "      <td>75966</td>\n",
       "      <td>4248.0</td>\n",
       "      <td>2022-05-06</td>\n",
       "    </tr>\n",
       "    <tr>\n",
       "      <th>27</th>\n",
       "      <td>for_sale</td>\n",
       "      <td>179900.0</td>\n",
       "      <td>3.0</td>\n",
       "      <td>2.0</td>\n",
       "      <td>2.23</td>\n",
       "      <td>Burkeville</td>\n",
       "      <td>Texas</td>\n",
       "      <td>75932</td>\n",
       "      <td>1240.0</td>\n",
       "      <td>2022-01-28</td>\n",
       "    </tr>\n",
       "    <tr>\n",
       "      <th>28</th>\n",
       "      <td>for_sale</td>\n",
       "      <td>134900.0</td>\n",
       "      <td>4.0</td>\n",
       "      <td>2.0</td>\n",
       "      <td>0.29</td>\n",
       "      <td>Newton</td>\n",
       "      <td>Texas</td>\n",
       "      <td>75966</td>\n",
       "      <td>2010.0</td>\n",
       "      <td>2021-07-29</td>\n",
       "    </tr>\n",
       "  </tbody>\n",
       "</table>\n",
       "</div>"
      ],
      "text/plain": [
       "      status     price  bed  bath  acre_lot        city  state  zip_code  \\\n",
       "18  for_sale  349000.0  6.0   5.0      4.41      Newton  Texas     75966   \n",
       "19  for_sale  249500.0  2.0   2.0      1.19    Hemphill  Texas     75948   \n",
       "23  for_sale  479000.0  5.0   4.0      6.28      Newton  Texas     75966   \n",
       "27  for_sale  179900.0  3.0   2.0      2.23  Burkeville  Texas     75932   \n",
       "28  for_sale  134900.0  4.0   2.0      0.29      Newton  Texas     75966   \n",
       "\n",
       "    house_size prev_sold_date  \n",
       "18      5888.0     2014-06-17  \n",
       "19      1872.0     2022-04-28  \n",
       "23      4248.0     2022-05-06  \n",
       "27      1240.0     2022-01-28  \n",
       "28      2010.0     2021-07-29  "
      ]
     },
     "execution_count": 54,
     "metadata": {},
     "output_type": "execute_result"
    }
   ],
   "source": [
    "# Verifying changes\n",
    "Clean_data_df.head()"
   ]
  },
  {
   "cell_type": "code",
   "execution_count": 55,
   "metadata": {},
   "outputs": [
    {
     "name": "stderr",
     "output_type": "stream",
     "text": [
      "c:\\ProgramData\\anaconda3\\Lib\\site-packages\\seaborn\\_oldcore.py:1119: FutureWarning: use_inf_as_na option is deprecated and will be removed in a future version. Convert inf values to NaN before operating instead.\n",
      "  with pd.option_context('mode.use_inf_as_na', True):\n"
     ]
    },
    {
     "data": {
      "image/png": "[encoded data removed]",
      "text/plain": [
       "<Figure size 1000x600 with 1 Axes>"
      ]
     },
     "metadata": {},
     "output_type": "display_data"
    },
    {
     "data": {
      "image/png": "[encoded data removed]",
      "text/plain": [
       "<Figure size 1000x600 with 1 Axes>"
      ]
     },
     "metadata": {},
     "output_type": "display_data"
    }
   ],
   "source": [
    "import seaborn as sns\n",
    "\n",
    "# Histogram of prices\n",
    "plt.figure(figsize=(10, 6))\n",
    "sns.histplot(Clean_data_df['price'], kde=True)\n",
    "plt.title('Distribution of Property Prices')\n",
    "plt.show()\n",
    "\n",
    "# Scatter plot of price vs. house size\n",
    "plt.figure(figsize=(10, 6))\n",
    "sns.scatterplot(x='house_size', y='price', data=Clean_data_df)\n",
    "plt.title('Price vs. House Size')\n",
    "plt.show()"
   ]
  },
  {
   "cell_type": "markdown",
   "metadata": {},
   "source": [
    "### Histogram of Prices\n",
    "**Most properties are low to moderately priced:** The sharp peak at the lower end suggests that the majority of the properties in the dataset are within a more affordable price range.\n",
    "\n",
    "**Few high-priced properties:** The long tail on the right indicates that there are some very high-priced properties, but they are rare compared to the lower-priced ones.\n",
    "\n",
    "### Scatter plot of Price vs. House Size\n",
    "**Positive Correlation:** Generally, there is a positive correlation between house size and price. This means that as the house size increases, the price tends to increase as well. This is evident from the upward trend where larger houses generally correspond to higher prices.\n",
    "\n",
    "**Cluster of Points:** Most of the data points are clustered in the lower range of both house size (under 5,000 square feet) and price (under $500,000). This suggests that the majority of properties in the dataset are relatively smaller homes with lower prices.\n",
    "\n",
    "**Outliers:** There are several points scattered far away from the main cluster, especially at higher house sizes and prices. These represent large, luxury properties that are much more expensive than the average. Some outliers are particularly notable for having high prices even with a relatively smaller house size, or very large house sizes with prices that may seem disproportionately high or low compared to the main trend.\n",
    "\n",
    "\n"
   ]
  },
  {
   "cell_type": "markdown",
   "metadata": {},
   "source": [
    "# Data Transformation"
   ]
  },
  {
   "cell_type": "markdown",
   "metadata": {},
   "source": [
    "1. Feature Engineering:\n",
    "We create a new features that could capture important relationships: \n",
    "* We calculate the age of the house since it was last sold\n",
    "* Calculate the Price per square foot\n",
    "* Calculate the average house value per zip code\n",
    "* Convert categorical variables: Convert city, state, and zip_code into numerical values using label encoding.\n"
   ]
  },
  {
   "cell_type": "code",
   "execution_count": 61,
   "metadata": {},
   "outputs": [
    {
     "data": {
      "text/html": [
       "<div>\n",
       "<style scoped>\n",
       "    .dataframe tbody tr th:only-of-type {\n",
       "        vertical-align: middle;\n",
       "    }\n",
       "\n",
       "    .dataframe tbody tr th {\n",
       "        vertical-align: top;\n",
       "    }\n",
       "\n",
       "    .dataframe thead th {\n",
       "        text-align: right;\n",
       "    }\n",
       "</style>\n",
       "<table border=\"1\" class=\"dataframe\">\n",
       "  <thead>\n",
       "    <tr style=\"text-align: right;\">\n",
       "      <th></th>\n",
       "      <th>status</th>\n",
       "      <th>price</th>\n",
       "      <th>bed</th>\n",
       "      <th>bath</th>\n",
       "      <th>acre_lot</th>\n",
       "      <th>city</th>\n",
       "      <th>state</th>\n",
       "      <th>zip_code</th>\n",
       "      <th>house_size</th>\n",
       "      <th>prev_sold_date</th>\n",
       "      <th>house_age_since_sold</th>\n",
       "      <th>price_per_sqft</th>\n",
       "      <th>average_house_value_per_zipcode</th>\n",
       "    </tr>\n",
       "  </thead>\n",
       "  <tbody>\n",
       "    <tr>\n",
       "      <th>0</th>\n",
       "      <td>for_sale</td>\n",
       "      <td>349000</td>\n",
       "      <td>6.0</td>\n",
       "      <td>5.0</td>\n",
       "      <td>4.41</td>\n",
       "      <td>311</td>\n",
       "      <td>0</td>\n",
       "      <td>326</td>\n",
       "      <td>5888.0</td>\n",
       "      <td>2014-06-17</td>\n",
       "      <td>3727</td>\n",
       "      <td>000059</td>\n",
       "      <td>237580</td>\n",
       "    </tr>\n",
       "    <tr>\n",
       "      <th>1</th>\n",
       "      <td>for_sale</td>\n",
       "      <td>249500</td>\n",
       "      <td>2.0</td>\n",
       "      <td>2.0</td>\n",
       "      <td>1.19</td>\n",
       "      <td>194</td>\n",
       "      <td>0</td>\n",
       "      <td>317</td>\n",
       "      <td>1872.0</td>\n",
       "      <td>2022-04-28</td>\n",
       "      <td>855</td>\n",
       "      <td>000133</td>\n",
       "      <td>280742</td>\n",
       "    </tr>\n",
       "    <tr>\n",
       "      <th>2</th>\n",
       "      <td>for_sale</td>\n",
       "      <td>479000</td>\n",
       "      <td>5.0</td>\n",
       "      <td>4.0</td>\n",
       "      <td>6.28</td>\n",
       "      <td>311</td>\n",
       "      <td>0</td>\n",
       "      <td>326</td>\n",
       "      <td>4248.0</td>\n",
       "      <td>2022-05-06</td>\n",
       "      <td>847</td>\n",
       "      <td>000112</td>\n",
       "      <td>237580</td>\n",
       "    </tr>\n",
       "    <tr>\n",
       "      <th>3</th>\n",
       "      <td>for_sale</td>\n",
       "      <td>179900</td>\n",
       "      <td>3.0</td>\n",
       "      <td>2.0</td>\n",
       "      <td>2.23</td>\n",
       "      <td>58</td>\n",
       "      <td>0</td>\n",
       "      <td>309</td>\n",
       "      <td>1240.0</td>\n",
       "      <td>2022-01-28</td>\n",
       "      <td>945</td>\n",
       "      <td>000145</td>\n",
       "      <td>244966</td>\n",
       "    </tr>\n",
       "    <tr>\n",
       "      <th>4</th>\n",
       "      <td>for_sale</td>\n",
       "      <td>134900</td>\n",
       "      <td>4.0</td>\n",
       "      <td>2.0</td>\n",
       "      <td>0.29</td>\n",
       "      <td>311</td>\n",
       "      <td>0</td>\n",
       "      <td>326</td>\n",
       "      <td>2010.0</td>\n",
       "      <td>2021-07-29</td>\n",
       "      <td>1128</td>\n",
       "      <td>000067</td>\n",
       "      <td>237580</td>\n",
       "    </tr>\n",
       "  </tbody>\n",
       "</table>\n",
       "</div>"
      ],
      "text/plain": [
       "     status   price  bed  bath  acre_lot  city  state  zip_code  house_size  \\\n",
       "0  for_sale  349000  6.0   5.0      4.41   311      0       326      5888.0   \n",
       "1  for_sale  249500  2.0   2.0      1.19   194      0       317      1872.0   \n",
       "2  for_sale  479000  5.0   4.0      6.28   311      0       326      4248.0   \n",
       "3  for_sale  179900  3.0   2.0      2.23    58      0       309      1240.0   \n",
       "4  for_sale  134900  4.0   2.0      0.29   311      0       326      2010.0   \n",
       "\n",
       "  prev_sold_date  house_age_since_sold price_per_sqft  \\\n",
       "0     2014-06-17                  3727         000059   \n",
       "1     2022-04-28                   855         000133   \n",
       "2     2022-05-06                   847         000112   \n",
       "3     2022-01-28                   945         000145   \n",
       "4     2021-07-29                  1128         000067   \n",
       "\n",
       "  average_house_value_per_zipcode  \n",
       "0                          237580  \n",
       "1                          280742  \n",
       "2                          237580  \n",
       "3                          244966  \n",
       "4                          237580  "
      ]
     },
     "execution_count": 61,
     "metadata": {},
     "output_type": "execute_result"
    }
   ],
   "source": [
    "\n",
    "transform_data_df = Clean_data_df.copy()\n",
    "\n",
    "# Calculate the age of the house since it was last sold\n",
    "transform_data_df['house_age_since_sold'] = (pd.to_datetime('2024-08-30') - transform_data_df['prev_sold_date']).dt.days\n",
    "\n",
    "# Calculate the Price per square foot\n",
    "transform_data_df['price_per_sqft'] = transform_data_df['price'] / transform_data_df['house_size']\n",
    "\n",
    "# Calculate the average house value per zip code\n",
    "average_house_value_per_zipcode = transform_data_df.groupby('zip_code')['price'].mean().reset_index()\n",
    "\n",
    "# Rename the column to be more descriptive\n",
    "average_house_value_per_zipcode.rename(columns={'price': 'average_house_value_per_zipcode'}, inplace=True)\n",
    "\n",
    "# Merge the average house value per zip code back to the original DataFrame\n",
    "transform_data_df = transform_data_df.merge(average_house_value_per_zipcode, on='zip_code', how='left')\n",
    "\n",
    "# Pad prices to 6 digits with leading zeros\n",
    "transform_data_df['average_house_value_per_zipcode'] = transform_data_df['average_house_value_per_zipcode'].apply(lambda x: f\"{int(x):06d}\")\n",
    "transform_data_df['price_per_sqft'] = transform_data_df['price_per_sqft'].apply(lambda x: f\"{int(x):06d}\")\n",
    "transform_data_df['price'] = transform_data_df['price'].apply(lambda x: f\"{int(x):06d}\")\n",
    "\n",
    "# Initialize the label encoder\n",
    "label_encoder = LabelEncoder()\n",
    "\n",
    "# Convert categorical variables:\n",
    "#Convert city, state, and zip_code into numerical values using label encoding.\n",
    "transform_data_df['city'] = label_encoder.fit_transform(transform_data_df['city'])\n",
    "transform_data_df['state'] = label_encoder.fit_transform(transform_data_df['state'])\n",
    "transform_data_df['zip_code'] = label_encoder.fit_transform(transform_data_df['zip_code'])\n",
    "\n",
    "transform_data_df.head()"
   ]
  },
  {
   "cell_type": "markdown",
   "metadata": {},
   "source": [
    "**At this Point each teams has to make 1 Training & Model & Prediction of their choice**"
   ]
  },
  {
   "cell_type": "markdown",
   "metadata": {},
   "source": [
    "# Rebecca"
   ]
  },
  {
   "cell_type": "code",
   "execution_count": null,
   "metadata": {},
   "outputs": [],
   "source": [
    "\n"
   ]
  },
  {
   "cell_type": "markdown",
   "metadata": {},
   "source": [
    "# Natalie"
   ]
  },
  {
   "cell_type": "code",
   "execution_count": null,
   "metadata": {},
   "outputs": [],
   "source": []
  },
  {
   "cell_type": "markdown",
   "metadata": {},
   "source": [
    "# Russel"
   ]
  },
  {
   "cell_type": "code",
   "execution_count": null,
   "metadata": {},
   "outputs": [],
   "source": []
  },
  {
   "cell_type": "markdown",
   "metadata": {},
   "source": [
    "# Michael"
   ]
  },
  {
   "cell_type": "code",
   "execution_count": null,
   "metadata": {},
   "outputs": [],
   "source": []
  },
  {
   "cell_type": "markdown",
   "metadata": {},
   "source": [
    "# Lerma"
   ]
  },
  {
   "cell_type": "code",
   "execution_count": null,
   "metadata": {},
   "outputs": [],
   "source": []
  }
 ],
 "metadata": {
  "kernelspec": {
   "display_name": "base",
   "language": "python",
   "name": "python3"
  },
  "language_info": {
   "codemirror_mode": {
    "name": "ipython",
    "version": 3
   },
   "file_extension": ".py",
   "mimetype": "text/x-python",
   "name": "python",
   "nbconvert_exporter": "python",
   "pygments_lexer": "ipython3",
   "version": "3.11.7"
  }
 },
 "nbformat": 4,
 "nbformat_minor": 2
}
