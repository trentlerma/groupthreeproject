{
 "cells": [
  {
   "cell_type": "code",
   "execution_count": 106,
   "metadata": {},
   "outputs": [
    {
     "data": {
      "text/html": [
       "<div>\n",
       "<style scoped>\n",
       "    .dataframe tbody tr th:only-of-type {\n",
       "        vertical-align: middle;\n",
       "    }\n",
       "\n",
       "    .dataframe tbody tr th {\n",
       "        vertical-align: top;\n",
       "    }\n",
       "\n",
       "    .dataframe thead th {\n",
       "        text-align: right;\n",
       "    }\n",
       "</style>\n",
       "<table border=\"1\" class=\"dataframe\">\n",
       "  <thead>\n",
       "    <tr style=\"text-align: right;\">\n",
       "      <th></th>\n",
       "      <th>brokered_by</th>\n",
       "      <th>status</th>\n",
       "      <th>price</th>\n",
       "      <th>bed</th>\n",
       "      <th>bath</th>\n",
       "      <th>acre_lot</th>\n",
       "      <th>street</th>\n",
       "      <th>city</th>\n",
       "      <th>state</th>\n",
       "      <th>zip_code</th>\n",
       "      <th>house_size</th>\n",
       "      <th>prev_sold_date</th>\n",
       "    </tr>\n",
       "  </thead>\n",
       "  <tbody>\n",
       "    <tr>\n",
       "      <th>0</th>\n",
       "      <td>33968.0</td>\n",
       "      <td>for_sale</td>\n",
       "      <td>99000.0</td>\n",
       "      <td>1.0</td>\n",
       "      <td>1.0</td>\n",
       "      <td>5.0</td>\n",
       "      <td>49388.0</td>\n",
       "      <td>Terlingua</td>\n",
       "      <td>Texas</td>\n",
       "      <td>79852</td>\n",
       "      <td>600.0</td>\n",
       "      <td>NaN</td>\n",
       "    </tr>\n",
       "    <tr>\n",
       "      <th>1</th>\n",
       "      <td>88188.0</td>\n",
       "      <td>for_sale</td>\n",
       "      <td>58800.0</td>\n",
       "      <td>NaN</td>\n",
       "      <td>NaN</td>\n",
       "      <td>1.0</td>\n",
       "      <td>841041.0</td>\n",
       "      <td>Orange</td>\n",
       "      <td>Texas</td>\n",
       "      <td>77632</td>\n",
       "      <td>NaN</td>\n",
       "      <td>NaN</td>\n",
       "    </tr>\n",
       "    <tr>\n",
       "      <th>2</th>\n",
       "      <td>88188.0</td>\n",
       "      <td>for_sale</td>\n",
       "      <td>58800.0</td>\n",
       "      <td>NaN</td>\n",
       "      <td>NaN</td>\n",
       "      <td>1.0</td>\n",
       "      <td>844563.0</td>\n",
       "      <td>Orange</td>\n",
       "      <td>Texas</td>\n",
       "      <td>77632</td>\n",
       "      <td>NaN</td>\n",
       "      <td>NaN</td>\n",
       "    </tr>\n",
       "    <tr>\n",
       "      <th>3</th>\n",
       "      <td>88188.0</td>\n",
       "      <td>for_sale</td>\n",
       "      <td>58800.0</td>\n",
       "      <td>NaN</td>\n",
       "      <td>NaN</td>\n",
       "      <td>1.0</td>\n",
       "      <td>845421.0</td>\n",
       "      <td>Orange</td>\n",
       "      <td>Texas</td>\n",
       "      <td>77632</td>\n",
       "      <td>NaN</td>\n",
       "      <td>NaN</td>\n",
       "    </tr>\n",
       "    <tr>\n",
       "      <th>4</th>\n",
       "      <td>88188.0</td>\n",
       "      <td>for_sale</td>\n",
       "      <td>58800.0</td>\n",
       "      <td>NaN</td>\n",
       "      <td>NaN</td>\n",
       "      <td>1.0</td>\n",
       "      <td>859147.0</td>\n",
       "      <td>Orange</td>\n",
       "      <td>Texas</td>\n",
       "      <td>77632</td>\n",
       "      <td>NaN</td>\n",
       "      <td>NaN</td>\n",
       "    </tr>\n",
       "  </tbody>\n",
       "</table>\n",
       "</div>"
      ],
      "text/plain": [
       "   brokered_by    status    price  bed  bath  acre_lot    street       city  \\\n",
       "0      33968.0  for_sale  99000.0  1.0   1.0       5.0   49388.0  Terlingua   \n",
       "1      88188.0  for_sale  58800.0  NaN   NaN       1.0  841041.0     Orange   \n",
       "2      88188.0  for_sale  58800.0  NaN   NaN       1.0  844563.0     Orange   \n",
       "3      88188.0  for_sale  58800.0  NaN   NaN       1.0  845421.0     Orange   \n",
       "4      88188.0  for_sale  58800.0  NaN   NaN       1.0  859147.0     Orange   \n",
       "\n",
       "   state  zip_code  house_size prev_sold_date  \n",
       "0  Texas     79852       600.0            NaN  \n",
       "1  Texas     77632         NaN            NaN  \n",
       "2  Texas     77632         NaN            NaN  \n",
       "3  Texas     77632         NaN            NaN  \n",
       "4  Texas     77632         NaN            NaN  "
      ]
     },
     "execution_count": 106,
     "metadata": {},
     "output_type": "execute_result"
    }
   ],
   "source": [
    "# Import the data\n",
    "import pandas as pd\n",
    "import numpy as np\n",
    "from sklearn.model_selection import train_test_split\n",
    "from sklearn.ensemble import RandomForestRegressor\n",
    "from sklearn.metrics import balanced_accuracy_score\n",
    "from sklearn.preprocessing import OneHotEncoder, OrdinalEncoder\n",
    "import seaborn as sns\n",
    "import matplotlib.pyplot as plt\n",
    "from sklearn.model_selection import train_test_split\n",
    "from sklearn.metrics import mean_absolute_error, mean_squared_error, r2_score\n",
    "from sklearn import tree\n",
    "from sklearn.tree import DecisionTreeRegressor\n",
    "from sklearn.compose import ColumnTransformer\n",
    "from sklearn.linear_model import LinearRegression\n",
    "\n",
    "\n",
    "Real_Estate_data_df = pd.read_csv('USA Real Estate Dataset new.csv')\n",
    "\n",
    "Real_Estate_data_df.head()"
   ]
  },
  {
   "cell_type": "code",
   "execution_count": 107,
   "metadata": {},
   "outputs": [
    {
     "name": "stdout",
     "output_type": "stream",
     "text": [
      "    brokered_by    status     price  bed  bath  acre_lot    street  \\\n",
      "18      22959.0  for_sale  349000.0  6.0   5.0      4.41  307395.0   \n",
      "19     106174.0  for_sale  249500.0  2.0   2.0      1.19  363547.0   \n",
      "23       4317.0  for_sale  479000.0  5.0   4.0      6.28  840246.0   \n",
      "26     100789.0  for_sale  499000.0  4.0   3.0       NaN  230632.0   \n",
      "27     100789.0  for_sale  179900.0  3.0   2.0      2.23  439804.0   \n",
      "\n",
      "          city  state  zip_code  house_size prev_sold_date  \n",
      "18      Newton  Texas     75966      5888.0     2014-06-17  \n",
      "19    Hemphill  Texas     75948      1872.0     2022-04-28  \n",
      "23      Newton  Texas     75966      4248.0     2022-05-06  \n",
      "26  Burkeville  Texas     75932      2320.0     2022-09-26  \n",
      "27  Burkeville  Texas     75932      1240.0     2022-01-28  \n"
     ]
    }
   ],
   "source": [
    "columns_to_drop_na = ['bed', 'bath', 'house_size', 'prev_sold_date']  # Specify the columns where you want to drop NA values\n",
    "Clean_Real_Estate_data_df = Real_Estate_data_df.dropna(subset=columns_to_drop_na)\n",
    "# Display the cleaned DataFrame\n",
    "print(Clean_Real_Estate_data_df.head())"
   ]
  },
  {
   "cell_type": "code",
   "execution_count": 108,
   "metadata": {},
   "outputs": [
    {
     "data": {
      "text/plain": [
       "array([ 600.,   nan, 2300., ..., 5408.,  899., 4345.])"
      ]
     },
     "execution_count": 108,
     "metadata": {},
     "output_type": "execute_result"
    }
   ],
   "source": [
    "#House size\n",
    "\n",
    "Real_Estate_data_df['house_size'].unique()"
   ]
  },
  {
   "cell_type": "code",
   "execution_count": 110,
   "metadata": {},
   "outputs": [],
   "source": [
    "# Step 2: Data Cleaning\n",
    "# Drop rows with missing target ('price') values\n",
    "Real_Estate_data_df = Real_Estate_data_df.dropna(subset=['price'])"
   ]
  },
  {
   "cell_type": "code",
   "execution_count": 111,
   "metadata": {},
   "outputs": [
    {
     "name": "stdout",
     "output_type": "stream",
     "text": [
      "(40053, 12)\n"
     ]
    }
   ],
   "source": [
    "#Checking the number of datapoints after cleaning\n",
    "print(Real_Estate_data_df.shape)"
   ]
  },
  {
   "cell_type": "code",
   "execution_count": 112,
   "metadata": {},
   "outputs": [],
   "source": [
    "# Convert prev_sold_date to datetime\n",
    "Real_Estate_data_df['prev_sold_date'] = pd.to_datetime(Real_Estate_data_df['prev_sold_date'])"
   ]
  },
  {
   "cell_type": "code",
   "execution_count": 113,
   "metadata": {},
   "outputs": [],
   "source": [
    "#zip code should be in type of string or integer\n",
    "#I found string will be better because the infomation it contains a area.\n",
    "Real_Estate_data_df['zip_code'] = Real_Estate_data_df['zip_code'].astype(str)"
   ]
  },
  {
   "cell_type": "code",
   "execution_count": 114,
   "metadata": {},
   "outputs": [
    {
     "name": "stdout",
     "output_type": "stream",
     "text": [
      "       brokered_by    status     price  bed  bath  acre_lot     street  \\\n",
      "0          33968.0  for_sale   99000.0  1.0   1.0      5.00    49388.0   \n",
      "1          88188.0  for_sale   58800.0  NaN   NaN      1.00   841041.0   \n",
      "2          88188.0  for_sale   58800.0  NaN   NaN      1.00   844563.0   \n",
      "3          88188.0  for_sale   58800.0  NaN   NaN      1.00   845421.0   \n",
      "4          88188.0  for_sale   58800.0  NaN   NaN      1.00   859147.0   \n",
      "...            ...       ...       ...  ...   ...       ...        ...   \n",
      "40106      68915.0  for_sale  467847.0  5.0   4.0      0.19   773587.0   \n",
      "40107      68915.0  for_sale  345249.0  5.0   3.0      0.19   772323.0   \n",
      "40108      61150.0  for_sale  325000.0  NaN   NaN      0.68  1024251.0   \n",
      "40109      68915.0  for_sale  456122.0  5.0   4.0      0.19   273557.0   \n",
      "40110      61150.0  for_sale  325000.0  NaN   NaN      0.69  1024490.0   \n",
      "\n",
      "                 city  state zip_code  house_size prev_sold_date  \n",
      "0           Terlingua  Texas    79852       600.0            NaT  \n",
      "1              Orange  Texas    77632         NaN            NaT  \n",
      "2              Orange  Texas    77632         NaN            NaT  \n",
      "3              Orange  Texas    77632         NaN            NaT  \n",
      "4              Orange  Texas    77632         NaN            NaT  \n",
      "...               ...    ...      ...         ...            ...  \n",
      "40106  Harker Heights  Texas    76548      3499.0            NaT  \n",
      "40107  Harker Heights  Texas    76548      2572.0            NaT  \n",
      "40108  Harker Heights  Texas    76548         NaN            NaT  \n",
      "40109  Harker Heights  Texas    76548      3499.0            NaT  \n",
      "40110  Harker Heights  Texas    76548         NaN            NaT  \n",
      "\n",
      "[26690 rows x 12 columns]\n"
     ]
    }
   ],
   "source": [
    "missing_rows = Real_Estate_data_df[Real_Estate_data_df.isnull().any(axis=1)]\n",
    "print(missing_rows)"
   ]
  },
  {
   "cell_type": "code",
   "execution_count": 115,
   "metadata": {},
   "outputs": [
    {
     "name": "stdout",
     "output_type": "stream",
     "text": [
      "         brokered_by         price           bed          bath      acre_lot  \\\n",
      "count   40035.000000  4.005300e+04  28703.000000  27158.000000  36224.000000   \n",
      "mean    52676.266742  4.856361e+05      3.476327      2.678548     11.630184   \n",
      "min        51.000000  0.000000e+00      1.000000      1.000000      0.000000   \n",
      "25%     26917.000000  1.800000e+05      3.000000      2.000000      0.170000   \n",
      "50%     52387.000000  3.400000e+05      3.000000      2.000000      0.340000   \n",
      "75%     78016.000000  5.199000e+05      4.000000      3.000000      2.010000   \n",
      "max    110142.000000  3.468000e+07     99.000000     25.000000   7085.560000   \n",
      "std     29782.067243  8.704503e+05      1.338834      1.212267    106.481943   \n",
      "\n",
      "             street    house_size                 prev_sold_date  \n",
      "count  3.994600e+04  28845.000000                          15315  \n",
      "mean   1.061438e+06   2313.505114  2014-05-03 11:55:09.461312512  \n",
      "min    2.300000e+01    100.000000            1979-01-01 00:00:00  \n",
      "25%    5.332330e+05   1589.000000            2009-08-25 00:00:00  \n",
      "50%    1.080763e+06   2048.000000            2016-11-02 00:00:00  \n",
      "75%    1.603388e+06   2741.000000            2020-01-17 00:00:00  \n",
      "max    2.001306e+06  69734.000000            2023-02-15 00:00:00  \n",
      "std    6.061289e+05   1380.738540                            NaN  \n"
     ]
    }
   ],
   "source": [
    "# summary statistics\n",
    "print(Real_Estate_data_df.describe())"
   ]
  },
  {
   "cell_type": "code",
   "execution_count": 116,
   "metadata": {},
   "outputs": [
    {
     "name": "stdout",
     "output_type": "stream",
     "text": [
      "status\n",
      "for_sale          38497\n",
      "ready_to_build     1556\n",
      "Name: count, dtype: int64\n"
     ]
    }
   ],
   "source": [
    "# Check the value counts\n",
    "print(Real_Estate_data_df['status'].value_counts())"
   ]
  },
  {
   "cell_type": "code",
   "execution_count": 117,
   "metadata": {},
   "outputs": [
    {
     "name": "stdout",
     "output_type": "stream",
     "text": [
      "brokered_by          18\n",
      "status                0\n",
      "price                 0\n",
      "bed               11350\n",
      "bath              12895\n",
      "acre_lot           3829\n",
      "street              107\n",
      "city                 17\n",
      "state                 0\n",
      "zip_code              0\n",
      "house_size        11208\n",
      "prev_sold_date    24738\n",
      "dtype: int64\n"
     ]
    }
   ],
   "source": [
    "# checking for missing values\n",
    "print(Real_Estate_data_df.isnull().sum())"
   ]
  },
  {
   "cell_type": "code",
   "execution_count": 118,
   "metadata": {},
   "outputs": [
    {
     "name": "stdout",
     "output_type": "stream",
     "text": [
      "0\n"
     ]
    }
   ],
   "source": [
    "# Checking for duplicates\n",
    "print(Real_Estate_data_df.duplicated().sum())"
   ]
  },
  {
   "cell_type": "markdown",
   "metadata": {},
   "source": [
    "Perfect Model: The model made zero errors, with all predictions perfectly matching the actual class labels for both class 0 and class 1. This is reflected in the confusion matrix, classification report, and accuracy score.\n",
    "\n",
    "Overfitting Concern: Achieving a perfect score is often a sign of overfitting (especially on test data), meaning the model may have memorized the training data rather than learning general patterns. In real-world scenarios, it is uncommon for models to achieve perfect classification, and caution should be taken when interpreting these results"
   ]
  },
  {
   "cell_type": "code",
   "execution_count": 119,
   "metadata": {},
   "outputs": [],
   "source": [
    "# Import necessary libraries\n",
    "import pandas as pd\n",
    "import numpy as np\n",
    "from sklearn.model_selection import train_test_split, GridSearchCV, cross_val_score\n",
    "from sklearn.tree import DecisionTreeClassifier\n",
    "from sklearn.metrics import classification_report, confusion_matrix, accuracy_score\n",
    "from sklearn.preprocessing import StandardScaler\n",
    "from sklearn.pipeline import Pipeline\n",
    "from category_encoders import TargetEncoder\n",
    "import matplotlib.pyplot as plt\n"
   ]
  },
  {
   "cell_type": "code",
   "execution_count": 120,
   "metadata": {},
   "outputs": [],
   "source": [
    "# Import the TargetEncoder\n",
    "from category_encoders import TargetEncoder"
   ]
  },
  {
   "cell_type": "code",
   "execution_count": 122,
   "metadata": {},
   "outputs": [],
   "source": [
    "# Convert 'zip_code' to string for encoding purposes\n",
    "Real_Estate_data_df['zip_code'] = Real_Estate_data_df['zip_code'].astype(str)"
   ]
  },
  {
   "cell_type": "code",
   "execution_count": 125,
   "metadata": {},
   "outputs": [],
   "source": [
    "\n",
    "# Ensure the target variable is suitable for classification\n",
    "# Example: Converting 'status' to a binary classification (e.g., 'for_sale' vs. 'not_for_sale')\n",
    "Real_Estate_data_df['status_binary'] = (Real_Estate_data_df['status'] == 'for_sale').astype(int)\n"
   ]
  },
  {
   "cell_type": "code",
   "execution_count": 126,
   "metadata": {},
   "outputs": [],
   "source": [
    "\n",
    "# Feature Engineering\n",
    "# Create meaningful interaction terms\n",
    "\n",
    "Real_Estate_data_df['price_per_bedroom'] =Real_Estate_data_df['price'] / Real_Estate_data_df['bed']\n",
    "Real_Estate_data_df['price_per_bathroom'] = Real_Estate_data_df['price'] / Real_Estate_data_df['bath']\n"
   ]
  },
  {
   "cell_type": "code",
   "execution_count": 127,
   "metadata": {},
   "outputs": [],
   "source": [
    "## Target Encoding for high-cardinality categorical variables\n",
    "target_encoder = TargetEncoder()\n",
    "Real_Estate_data_df['city_encoded'] = target_encoder.fit_transform(Real_Estate_data_df['city'], Real_Estate_data_df['status_binary'])\n",
    "Real_Estate_data_df['state_encoded'] = target_encoder.fit_transform(Real_Estate_data_df['state'], Real_Estate_data_df['status_binary'])"
   ]
  },
  {
   "cell_type": "code",
   "execution_count": 128,
   "metadata": {},
   "outputs": [],
   "source": [
    "\n",
    "# Feature Scaling\n",
    "scaler = StandardScaler()\n",
    "Real_Estate_data_df[['acre_lot_scaled', 'house_size_scaled']] = scaler.fit_transform(Real_Estate_data_df[['acre_lot', 'house_size']])\n"
   ]
  },
  {
   "cell_type": "code",
   "execution_count": 129,
   "metadata": {},
   "outputs": [],
   "source": [
    "\n",
    "# Prepare the data for modeling\n",
    "X = Real_Estate_data_df.drop(['price', 'status', 'status_binary', 'city', 'state', 'prev_sold_date'], axis=1, errors='ignore')\n",
    "y = Real_Estate_data_df['status_binary']  # Binary target variable\n"
   ]
  },
  {
   "cell_type": "code",
   "execution_count": 130,
   "metadata": {},
   "outputs": [],
   "source": [
    "\n",
    "# Split the data into training and testing sets\n",
    "X_train, X_test, y_train, y_test = train_test_split(X, y, test_size=0.2, random_state=42)\n"
   ]
  },
  {
   "cell_type": "code",
   "execution_count": 131,
   "metadata": {},
   "outputs": [],
   "source": [
    "# Set up the Decision Tree Classifier model with a pipeline for scaling\n",
    "dt_pipeline = Pipeline([\n",
    "    ('scaler', StandardScaler()),\n",
    "    ('dt', DecisionTreeClassifier(random_state=42))\n",
    "])"
   ]
  },
  {
   "cell_type": "code",
   "execution_count": 132,
   "metadata": {},
   "outputs": [],
   "source": [
    "\n",
    "# Hyperparameters to tune\n",
    "param_grid = {\n",
    "    'dt__max_depth': [None, 10, 20, 30, 40, 50],\n",
    "    'dt__min_samples_split': [2, 5, 10],\n",
    "    'dt__min_samples_leaf': [1, 2, 4],\n",
    "    'dt__criterion': ['gini', 'entropy']\n",
    "}"
   ]
  },
  {
   "cell_type": "code",
   "execution_count": 133,
   "metadata": {},
   "outputs": [
    {
     "data": {
      "text/html": [
       "<style>#sk-container-id-5 {\n",
       "  /* Definition of color scheme common for light and dark mode */\n",
       "  --sklearn-color-text: black;\n",
       "  --sklearn-color-line: gray;\n",
       "  /* Definition of color scheme for unfitted estimators */\n",
       "  --sklearn-color-unfitted-level-0: #fff5e6;\n",
       "  --sklearn-color-unfitted-level-1: #f6e4d2;\n",
       "  --sklearn-color-unfitted-level-2: #ffe0b3;\n",
       "  --sklearn-color-unfitted-level-3: chocolate;\n",
       "  /* Definition of color scheme for fitted estimators */\n",
       "  --sklearn-color-fitted-level-0: #f0f8ff;\n",
       "  --sklearn-color-fitted-level-1: #d4ebff;\n",
       "  --sklearn-color-fitted-level-2: #b3dbfd;\n",
       "  --sklearn-color-fitted-level-3: cornflowerblue;\n",
       "\n",
       "  /* Specific color for light theme */\n",
       "  --sklearn-color-text-on-default-background: var(--sg-text-color, var(--theme-code-foreground, var(--jp-content-font-color1, black)));\n",
       "  --sklearn-color-background: var(--sg-background-color, var(--theme-background, var(--jp-layout-color0, white)));\n",
       "  --sklearn-color-border-box: var(--sg-text-color, var(--theme-code-foreground, var(--jp-content-font-color1, black)));\n",
       "  --sklearn-color-icon: #696969;\n",
       "\n",
       "  @media (prefers-color-scheme: dark) {\n",
       "    /* Redefinition of color scheme for dark theme */\n",
       "    --sklearn-color-text-on-default-background: var(--sg-text-color, var(--theme-code-foreground, var(--jp-content-font-color1, white)));\n",
       "    --sklearn-color-background: var(--sg-background-color, var(--theme-background, var(--jp-layout-color0, #111)));\n",
       "    --sklearn-color-border-box: var(--sg-text-color, var(--theme-code-foreground, var(--jp-content-font-color1, white)));\n",
       "    --sklearn-color-icon: #878787;\n",
       "  }\n",
       "}\n",
       "\n",
       "#sk-container-id-5 {\n",
       "  color: var(--sklearn-color-text);\n",
       "}\n",
       "\n",
       "#sk-container-id-5 pre {\n",
       "  padding: 0;\n",
       "}\n",
       "\n",
       "#sk-container-id-5 input.sk-hidden--visually {\n",
       "  border: 0;\n",
       "  clip: rect(1px 1px 1px 1px);\n",
       "  clip: rect(1px, 1px, 1px, 1px);\n",
       "  height: 1px;\n",
       "  margin: -1px;\n",
       "  overflow: hidden;\n",
       "  padding: 0;\n",
       "  position: absolute;\n",
       "  width: 1px;\n",
       "}\n",
       "\n",
       "#sk-container-id-5 div.sk-dashed-wrapped {\n",
       "  border: 1px dashed var(--sklearn-color-line);\n",
       "  margin: 0 0.4em 0.5em 0.4em;\n",
       "  box-sizing: border-box;\n",
       "  padding-bottom: 0.4em;\n",
       "  background-color: var(--sklearn-color-background);\n",
       "}\n",
       "\n",
       "#sk-container-id-5 div.sk-container {\n",
       "  /* jupyter's `normalize.less` sets `[hidden] { display: none; }`\n",
       "     but bootstrap.min.css set `[hidden] { display: none !important; }`\n",
       "     so we also need the `!important` here to be able to override the\n",
       "     default hidden behavior on the sphinx rendered scikit-learn.org.\n",
       "     See: https://github.com/scikit-learn/scikit-learn/issues/21755 */\n",
       "  display: inline-block !important;\n",
       "  position: relative;\n",
       "}\n",
       "\n",
       "#sk-container-id-5 div.sk-text-repr-fallback {\n",
       "  display: none;\n",
       "}\n",
       "\n",
       "div.sk-parallel-item,\n",
       "div.sk-serial,\n",
       "div.sk-item {\n",
       "  /* draw centered vertical line to link estimators */\n",
       "  background-image: linear-gradient(var(--sklearn-color-text-on-default-background), var(--sklearn-color-text-on-default-background));\n",
       "  background-size: 2px 100%;\n",
       "  background-repeat: no-repeat;\n",
       "  background-position: center center;\n",
       "}\n",
       "\n",
       "/* Parallel-specific style estimator block */\n",
       "\n",
       "#sk-container-id-5 div.sk-parallel-item::after {\n",
       "  content: \"\";\n",
       "  width: 100%;\n",
       "  border-bottom: 2px solid var(--sklearn-color-text-on-default-background);\n",
       "  flex-grow: 1;\n",
       "}\n",
       "\n",
       "#sk-container-id-5 div.sk-parallel {\n",
       "  display: flex;\n",
       "  align-items: stretch;\n",
       "  justify-content: center;\n",
       "  background-color: var(--sklearn-color-background);\n",
       "  position: relative;\n",
       "}\n",
       "\n",
       "#sk-container-id-5 div.sk-parallel-item {\n",
       "  display: flex;\n",
       "  flex-direction: column;\n",
       "}\n",
       "\n",
       "#sk-container-id-5 div.sk-parallel-item:first-child::after {\n",
       "  align-self: flex-end;\n",
       "  width: 50%;\n",
       "}\n",
       "\n",
       "#sk-container-id-5 div.sk-parallel-item:last-child::after {\n",
       "  align-self: flex-start;\n",
       "  width: 50%;\n",
       "}\n",
       "\n",
       "#sk-container-id-5 div.sk-parallel-item:only-child::after {\n",
       "  width: 0;\n",
       "}\n",
       "\n",
       "/* Serial-specific style estimator block */\n",
       "\n",
       "#sk-container-id-5 div.sk-serial {\n",
       "  display: flex;\n",
       "  flex-direction: column;\n",
       "  align-items: center;\n",
       "  background-color: var(--sklearn-color-background);\n",
       "  padding-right: 1em;\n",
       "  padding-left: 1em;\n",
       "}\n",
       "\n",
       "\n",
       "/* Toggleable style: style used for estimator/Pipeline/ColumnTransformer box that is\n",
       "clickable and can be expanded/collapsed.\n",
       "- Pipeline and ColumnTransformer use this feature and define the default style\n",
       "- Estimators will overwrite some part of the style using the `sk-estimator` class\n",
       "*/\n",
       "\n",
       "/* Pipeline and ColumnTransformer style (default) */\n",
       "\n",
       "#sk-container-id-5 div.sk-toggleable {\n",
       "  /* Default theme specific background. It is overwritten whether we have a\n",
       "  specific estimator or a Pipeline/ColumnTransformer */\n",
       "  background-color: var(--sklearn-color-background);\n",
       "}\n",
       "\n",
       "/* Toggleable label */\n",
       "#sk-container-id-5 label.sk-toggleable__label {\n",
       "  cursor: pointer;\n",
       "  display: block;\n",
       "  width: 100%;\n",
       "  margin-bottom: 0;\n",
       "  padding: 0.5em;\n",
       "  box-sizing: border-box;\n",
       "  text-align: center;\n",
       "}\n",
       "\n",
       "#sk-container-id-5 label.sk-toggleable__label-arrow:before {\n",
       "  /* Arrow on the left of the label */\n",
       "  content: \"▸\";\n",
       "  float: left;\n",
       "  margin-right: 0.25em;\n",
       "  color: var(--sklearn-color-icon);\n",
       "}\n",
       "\n",
       "#sk-container-id-5 label.sk-toggleable__label-arrow:hover:before {\n",
       "  color: var(--sklearn-color-text);\n",
       "}\n",
       "\n",
       "/* Toggleable content - dropdown */\n",
       "\n",
       "#sk-container-id-5 div.sk-toggleable__content {\n",
       "  max-height: 0;\n",
       "  max-width: 0;\n",
       "  overflow: hidden;\n",
       "  text-align: left;\n",
       "  /* unfitted */\n",
       "  background-color: var(--sklearn-color-unfitted-level-0);\n",
       "}\n",
       "\n",
       "#sk-container-id-5 div.sk-toggleable__content.fitted {\n",
       "  /* fitted */\n",
       "  background-color: var(--sklearn-color-fitted-level-0);\n",
       "}\n",
       "\n",
       "#sk-container-id-5 div.sk-toggleable__content pre {\n",
       "  margin: 0.2em;\n",
       "  border-radius: 0.25em;\n",
       "  color: var(--sklearn-color-text);\n",
       "  /* unfitted */\n",
       "  background-color: var(--sklearn-color-unfitted-level-0);\n",
       "}\n",
       "\n",
       "#sk-container-id-5 div.sk-toggleable__content.fitted pre {\n",
       "  /* unfitted */\n",
       "  background-color: var(--sklearn-color-fitted-level-0);\n",
       "}\n",
       "\n",
       "#sk-container-id-5 input.sk-toggleable__control:checked~div.sk-toggleable__content {\n",
       "  /* Expand drop-down */\n",
       "  max-height: 200px;\n",
       "  max-width: 100%;\n",
       "  overflow: auto;\n",
       "}\n",
       "\n",
       "#sk-container-id-5 input.sk-toggleable__control:checked~label.sk-toggleable__label-arrow:before {\n",
       "  content: \"▾\";\n",
       "}\n",
       "\n",
       "/* Pipeline/ColumnTransformer-specific style */\n",
       "\n",
       "#sk-container-id-5 div.sk-label input.sk-toggleable__control:checked~label.sk-toggleable__label {\n",
       "  color: var(--sklearn-color-text);\n",
       "  background-color: var(--sklearn-color-unfitted-level-2);\n",
       "}\n",
       "\n",
       "#sk-container-id-5 div.sk-label.fitted input.sk-toggleable__control:checked~label.sk-toggleable__label {\n",
       "  background-color: var(--sklearn-color-fitted-level-2);\n",
       "}\n",
       "\n",
       "/* Estimator-specific style */\n",
       "\n",
       "/* Colorize estimator box */\n",
       "#sk-container-id-5 div.sk-estimator input.sk-toggleable__control:checked~label.sk-toggleable__label {\n",
       "  /* unfitted */\n",
       "  background-color: var(--sklearn-color-unfitted-level-2);\n",
       "}\n",
       "\n",
       "#sk-container-id-5 div.sk-estimator.fitted input.sk-toggleable__control:checked~label.sk-toggleable__label {\n",
       "  /* fitted */\n",
       "  background-color: var(--sklearn-color-fitted-level-2);\n",
       "}\n",
       "\n",
       "#sk-container-id-5 div.sk-label label.sk-toggleable__label,\n",
       "#sk-container-id-5 div.sk-label label {\n",
       "  /* The background is the default theme color */\n",
       "  color: var(--sklearn-color-text-on-default-background);\n",
       "}\n",
       "\n",
       "/* On hover, darken the color of the background */\n",
       "#sk-container-id-5 div.sk-label:hover label.sk-toggleable__label {\n",
       "  color: var(--sklearn-color-text);\n",
       "  background-color: var(--sklearn-color-unfitted-level-2);\n",
       "}\n",
       "\n",
       "/* Label box, darken color on hover, fitted */\n",
       "#sk-container-id-5 div.sk-label.fitted:hover label.sk-toggleable__label.fitted {\n",
       "  color: var(--sklearn-color-text);\n",
       "  background-color: var(--sklearn-color-fitted-level-2);\n",
       "}\n",
       "\n",
       "/* Estimator label */\n",
       "\n",
       "#sk-container-id-5 div.sk-label label {\n",
       "  font-family: monospace;\n",
       "  font-weight: bold;\n",
       "  display: inline-block;\n",
       "  line-height: 1.2em;\n",
       "}\n",
       "\n",
       "#sk-container-id-5 div.sk-label-container {\n",
       "  text-align: center;\n",
       "}\n",
       "\n",
       "/* Estimator-specific */\n",
       "#sk-container-id-5 div.sk-estimator {\n",
       "  font-family: monospace;\n",
       "  border: 1px dotted var(--sklearn-color-border-box);\n",
       "  border-radius: 0.25em;\n",
       "  box-sizing: border-box;\n",
       "  margin-bottom: 0.5em;\n",
       "  /* unfitted */\n",
       "  background-color: var(--sklearn-color-unfitted-level-0);\n",
       "}\n",
       "\n",
       "#sk-container-id-5 div.sk-estimator.fitted {\n",
       "  /* fitted */\n",
       "  background-color: var(--sklearn-color-fitted-level-0);\n",
       "}\n",
       "\n",
       "/* on hover */\n",
       "#sk-container-id-5 div.sk-estimator:hover {\n",
       "  /* unfitted */\n",
       "  background-color: var(--sklearn-color-unfitted-level-2);\n",
       "}\n",
       "\n",
       "#sk-container-id-5 div.sk-estimator.fitted:hover {\n",
       "  /* fitted */\n",
       "  background-color: var(--sklearn-color-fitted-level-2);\n",
       "}\n",
       "\n",
       "/* Specification for estimator info (e.g. \"i\" and \"?\") */\n",
       "\n",
       "/* Common style for \"i\" and \"?\" */\n",
       "\n",
       ".sk-estimator-doc-link,\n",
       "a:link.sk-estimator-doc-link,\n",
       "a:visited.sk-estimator-doc-link {\n",
       "  float: right;\n",
       "  font-size: smaller;\n",
       "  line-height: 1em;\n",
       "  font-family: monospace;\n",
       "  background-color: var(--sklearn-color-background);\n",
       "  border-radius: 1em;\n",
       "  height: 1em;\n",
       "  width: 1em;\n",
       "  text-decoration: none !important;\n",
       "  margin-left: 1ex;\n",
       "  /* unfitted */\n",
       "  border: var(--sklearn-color-unfitted-level-1) 1pt solid;\n",
       "  color: var(--sklearn-color-unfitted-level-1);\n",
       "}\n",
       "\n",
       ".sk-estimator-doc-link.fitted,\n",
       "a:link.sk-estimator-doc-link.fitted,\n",
       "a:visited.sk-estimator-doc-link.fitted {\n",
       "  /* fitted */\n",
       "  border: var(--sklearn-color-fitted-level-1) 1pt solid;\n",
       "  color: var(--sklearn-color-fitted-level-1);\n",
       "}\n",
       "\n",
       "/* On hover */\n",
       "div.sk-estimator:hover .sk-estimator-doc-link:hover,\n",
       ".sk-estimator-doc-link:hover,\n",
       "div.sk-label-container:hover .sk-estimator-doc-link:hover,\n",
       ".sk-estimator-doc-link:hover {\n",
       "  /* unfitted */\n",
       "  background-color: var(--sklearn-color-unfitted-level-3);\n",
       "  color: var(--sklearn-color-background);\n",
       "  text-decoration: none;\n",
       "}\n",
       "\n",
       "div.sk-estimator.fitted:hover .sk-estimator-doc-link.fitted:hover,\n",
       ".sk-estimator-doc-link.fitted:hover,\n",
       "div.sk-label-container:hover .sk-estimator-doc-link.fitted:hover,\n",
       ".sk-estimator-doc-link.fitted:hover {\n",
       "  /* fitted */\n",
       "  background-color: var(--sklearn-color-fitted-level-3);\n",
       "  color: var(--sklearn-color-background);\n",
       "  text-decoration: none;\n",
       "}\n",
       "\n",
       "/* Span, style for the box shown on hovering the info icon */\n",
       ".sk-estimator-doc-link span {\n",
       "  display: none;\n",
       "  z-index: 9999;\n",
       "  position: relative;\n",
       "  font-weight: normal;\n",
       "  right: .2ex;\n",
       "  padding: .5ex;\n",
       "  margin: .5ex;\n",
       "  width: min-content;\n",
       "  min-width: 20ex;\n",
       "  max-width: 50ex;\n",
       "  color: var(--sklearn-color-text);\n",
       "  box-shadow: 2pt 2pt 4pt #999;\n",
       "  /* unfitted */\n",
       "  background: var(--sklearn-color-unfitted-level-0);\n",
       "  border: .5pt solid var(--sklearn-color-unfitted-level-3);\n",
       "}\n",
       "\n",
       ".sk-estimator-doc-link.fitted span {\n",
       "  /* fitted */\n",
       "  background: var(--sklearn-color-fitted-level-0);\n",
       "  border: var(--sklearn-color-fitted-level-3);\n",
       "}\n",
       "\n",
       ".sk-estimator-doc-link:hover span {\n",
       "  display: block;\n",
       "}\n",
       "\n",
       "/* \"?\"-specific style due to the `<a>` HTML tag */\n",
       "\n",
       "#sk-container-id-5 a.estimator_doc_link {\n",
       "  float: right;\n",
       "  font-size: 1rem;\n",
       "  line-height: 1em;\n",
       "  font-family: monospace;\n",
       "  background-color: var(--sklearn-color-background);\n",
       "  border-radius: 1rem;\n",
       "  height: 1rem;\n",
       "  width: 1rem;\n",
       "  text-decoration: none;\n",
       "  /* unfitted */\n",
       "  color: var(--sklearn-color-unfitted-level-1);\n",
       "  border: var(--sklearn-color-unfitted-level-1) 1pt solid;\n",
       "}\n",
       "\n",
       "#sk-container-id-5 a.estimator_doc_link.fitted {\n",
       "  /* fitted */\n",
       "  border: var(--sklearn-color-fitted-level-1) 1pt solid;\n",
       "  color: var(--sklearn-color-fitted-level-1);\n",
       "}\n",
       "\n",
       "/* On hover */\n",
       "#sk-container-id-5 a.estimator_doc_link:hover {\n",
       "  /* unfitted */\n",
       "  background-color: var(--sklearn-color-unfitted-level-3);\n",
       "  color: var(--sklearn-color-background);\n",
       "  text-decoration: none;\n",
       "}\n",
       "\n",
       "#sk-container-id-5 a.estimator_doc_link.fitted:hover {\n",
       "  /* fitted */\n",
       "  background-color: var(--sklearn-color-fitted-level-3);\n",
       "}\n",
       "</style><div id=\"sk-container-id-5\" class=\"sk-top-container\"><div class=\"sk-text-repr-fallback\"><pre>GridSearchCV(cv=5,\n",
       "             estimator=Pipeline(steps=[(&#x27;scaler&#x27;, StandardScaler()),\n",
       "                                       (&#x27;dt&#x27;,\n",
       "                                        DecisionTreeClassifier(random_state=42))]),\n",
       "             n_jobs=-1,\n",
       "             param_grid={&#x27;dt__criterion&#x27;: [&#x27;gini&#x27;, &#x27;entropy&#x27;],\n",
       "                         &#x27;dt__max_depth&#x27;: [None, 10, 20, 30, 40, 50],\n",
       "                         &#x27;dt__min_samples_leaf&#x27;: [1, 2, 4],\n",
       "                         &#x27;dt__min_samples_split&#x27;: [2, 5, 10]},\n",
       "             scoring=&#x27;accuracy&#x27;)</pre><b>In a Jupyter environment, please rerun this cell to show the HTML representation or trust the notebook. <br />On GitHub, the HTML representation is unable to render, please try loading this page with nbviewer.org.</b></div><div class=\"sk-container\" hidden><div class=\"sk-item sk-dashed-wrapped\"><div class=\"sk-label-container\"><div class=\"sk-label fitted sk-toggleable\"><input class=\"sk-toggleable__control sk-hidden--visually\" id=\"sk-estimator-id-17\" type=\"checkbox\" ><label for=\"sk-estimator-id-17\" class=\"sk-toggleable__label fitted sk-toggleable__label-arrow fitted\">&nbsp;&nbsp;GridSearchCV<a class=\"sk-estimator-doc-link fitted\" rel=\"noreferrer\" target=\"_blank\" href=\"https://scikit-learn.org/1.4/modules/generated/sklearn.model_selection.GridSearchCV.html\">?<span>Documentation for GridSearchCV</span></a><span class=\"sk-estimator-doc-link fitted\">i<span>Fitted</span></span></label><div class=\"sk-toggleable__content fitted\"><pre>GridSearchCV(cv=5,\n",
       "             estimator=Pipeline(steps=[(&#x27;scaler&#x27;, StandardScaler()),\n",
       "                                       (&#x27;dt&#x27;,\n",
       "                                        DecisionTreeClassifier(random_state=42))]),\n",
       "             n_jobs=-1,\n",
       "             param_grid={&#x27;dt__criterion&#x27;: [&#x27;gini&#x27;, &#x27;entropy&#x27;],\n",
       "                         &#x27;dt__max_depth&#x27;: [None, 10, 20, 30, 40, 50],\n",
       "                         &#x27;dt__min_samples_leaf&#x27;: [1, 2, 4],\n",
       "                         &#x27;dt__min_samples_split&#x27;: [2, 5, 10]},\n",
       "             scoring=&#x27;accuracy&#x27;)</pre></div> </div></div><div class=\"sk-parallel\"><div class=\"sk-parallel-item\"><div class=\"sk-item\"><div class=\"sk-label-container\"><div class=\"sk-label fitted sk-toggleable\"><input class=\"sk-toggleable__control sk-hidden--visually\" id=\"sk-estimator-id-18\" type=\"checkbox\" ><label for=\"sk-estimator-id-18\" class=\"sk-toggleable__label fitted sk-toggleable__label-arrow fitted\">estimator: Pipeline</label><div class=\"sk-toggleable__content fitted\"><pre>Pipeline(steps=[(&#x27;scaler&#x27;, StandardScaler()),\n",
       "                (&#x27;dt&#x27;, DecisionTreeClassifier(random_state=42))])</pre></div> </div></div><div class=\"sk-serial\"><div class=\"sk-item\"><div class=\"sk-serial\"><div class=\"sk-item\"><div class=\"sk-estimator fitted sk-toggleable\"><input class=\"sk-toggleable__control sk-hidden--visually\" id=\"sk-estimator-id-19\" type=\"checkbox\" ><label for=\"sk-estimator-id-19\" class=\"sk-toggleable__label fitted sk-toggleable__label-arrow fitted\">&nbsp;StandardScaler<a class=\"sk-estimator-doc-link fitted\" rel=\"noreferrer\" target=\"_blank\" href=\"https://scikit-learn.org/1.4/modules/generated/sklearn.preprocessing.StandardScaler.html\">?<span>Documentation for StandardScaler</span></a></label><div class=\"sk-toggleable__content fitted\"><pre>StandardScaler()</pre></div> </div></div><div class=\"sk-item\"><div class=\"sk-estimator fitted sk-toggleable\"><input class=\"sk-toggleable__control sk-hidden--visually\" id=\"sk-estimator-id-20\" type=\"checkbox\" ><label for=\"sk-estimator-id-20\" class=\"sk-toggleable__label fitted sk-toggleable__label-arrow fitted\">&nbsp;DecisionTreeClassifier<a class=\"sk-estimator-doc-link fitted\" rel=\"noreferrer\" target=\"_blank\" href=\"https://scikit-learn.org/1.4/modules/generated/sklearn.tree.DecisionTreeClassifier.html\">?<span>Documentation for DecisionTreeClassifier</span></a></label><div class=\"sk-toggleable__content fitted\"><pre>DecisionTreeClassifier(random_state=42)</pre></div> </div></div></div></div></div></div></div></div></div></div></div>"
      ],
      "text/plain": [
       "GridSearchCV(cv=5,\n",
       "             estimator=Pipeline(steps=[('scaler', StandardScaler()),\n",
       "                                       ('dt',\n",
       "                                        DecisionTreeClassifier(random_state=42))]),\n",
       "             n_jobs=-1,\n",
       "             param_grid={'dt__criterion': ['gini', 'entropy'],\n",
       "                         'dt__max_depth': [None, 10, 20, 30, 40, 50],\n",
       "                         'dt__min_samples_leaf': [1, 2, 4],\n",
       "                         'dt__min_samples_split': [2, 5, 10]},\n",
       "             scoring='accuracy')"
      ]
     },
     "execution_count": 133,
     "metadata": {},
     "output_type": "execute_result"
    }
   ],
   "source": [
    "\n",
    "# Perform GridSearchCV to find the best hyperparameters\n",
    "grid_search_dt = GridSearchCV(dt_pipeline, param_grid, cv=5, scoring='accuracy', n_jobs=-1)\n",
    "grid_search_dt.fit(X_train, y_train)\n"
   ]
  },
  {
   "cell_type": "code",
   "execution_count": 134,
   "metadata": {},
   "outputs": [
    {
     "name": "stdout",
     "output_type": "stream",
     "text": [
      "Best Hyperparameters for Decision Tree: {'dt__criterion': 'gini', 'dt__max_depth': None, 'dt__min_samples_leaf': 1, 'dt__min_samples_split': 2}\n",
      "Best Cross-Validation Accuracy for Decision Tree: 0.9999375828973338\n"
     ]
    }
   ],
   "source": [
    "# Best parameters and model performance\n",
    "best_dt_model = grid_search_dt.best_estimator_\n",
    "print(f\"Best Hyperparameters for Decision Tree: {grid_search_dt.best_params_}\")\n",
    "print(f\"Best Cross-Validation Accuracy for Decision Tree: {grid_search_dt.best_score_}\")\n"
   ]
  },
  {
   "cell_type": "code",
   "execution_count": 135,
   "metadata": {},
   "outputs": [],
   "source": [
    "\n",
    "# Evaluate the Decision Tree model on the test set\n",
    "y_pred_dt = best_dt_model.predict(X_test)\n"
   ]
  },
  {
   "cell_type": "code",
   "execution_count": 136,
   "metadata": {},
   "outputs": [
    {
     "name": "stdout",
     "output_type": "stream",
     "text": [
      "Confusion Matrix:\n",
      " [[ 321    0]\n",
      " [   0 7690]]\n",
      "Classification Report:\n",
      "               precision    recall  f1-score   support\n",
      "\n",
      "           0       1.00      1.00      1.00       321\n",
      "           1       1.00      1.00      1.00      7690\n",
      "\n",
      "    accuracy                           1.00      8011\n",
      "   macro avg       1.00      1.00      1.00      8011\n",
      "weighted avg       1.00      1.00      1.00      8011\n",
      "\n",
      "Accuracy Score: 1.0\n"
     ]
    }
   ],
   "source": [
    "# Model evaluation metrics\n",
    "print(\"Confusion Matrix:\\n\", confusion_matrix(y_test, y_pred_dt))\n",
    "print(\"Classification Report:\\n\", classification_report(y_test, y_pred_dt))\n",
    "print(\"Accuracy Score:\", accuracy_score(y_test, y_pred_dt))\n"
   ]
  },
  {
   "cell_type": "code",
   "execution_count": 137,
   "metadata": {},
   "outputs": [
    {
     "name": "stdout",
     "output_type": "stream",
     "text": [
      "Decision Tree Cross-Validation Accuracy Scores: [0.99984397 1.         1.         0.99984395 1.        ]\n",
      "Mean Accuracy Score: 0.9999375828973338\n"
     ]
    }
   ],
   "source": [
    "# Evaluate using cross-validation for more robust performance metrics\n",
    "cv_scores_dt = cross_val_score(best_dt_model, X_train, y_train, cv=5, scoring='accuracy')\n",
    "print(f\"Decision Tree Cross-Validation Accuracy Scores: {cv_scores_dt}\")\n",
    "print(f\"Mean Accuracy Score: {cv_scores_dt.mean()}\")\n"
   ]
  },
  {
   "cell_type": "code",
   "execution_count": 138,
   "metadata": {},
   "outputs": [
    {
     "data": {
      "image/png": "[encoded data removed]",
      "text/plain": [
       "<Figure size 1000x600 with 1 Axes>"
      ]
     },
     "metadata": {},
     "output_type": "display_data"
    }
   ],
   "source": [
    "# Plotting feature importance\n",
    "if hasattr(best_dt_model.named_steps['dt'], 'feature_importances_'):\n",
    "    plt.figure(figsize=(10, 6))\n",
    "    feature_importances = best_dt_model.named_steps['dt'].feature_importances_\n",
    "    sorted_indices = np.argsort(feature_importances)[::-1]\n",
    "    plt.bar(range(X_train.shape[1]), feature_importances[sorted_indices])\n",
    "    plt.title('Decision Tree Feature Importances')\n",
    "    plt.xticks(range(X_train.shape[1]), X.columns[sorted_indices], rotation=90)\n",
    "    plt.tight_layout()\n",
    "    plt.show()"
   ]
  },
  {
   "cell_type": "code",
   "execution_count": 139,
   "metadata": {},
   "outputs": [
    {
     "data": {
      "image/png": "[encoded data removed]",
      "text/plain": [
       "<Figure size 640x480 with 1 Axes>"
      ]
     },
     "metadata": {},
     "output_type": "display_data"
    }
   ],
   "source": [
    "\n",
    "# Optional: Plotting predictions vs actuals for binary classification\n",
    "plt.scatter(y_test, y_pred_dt, alpha=0.5)\n",
    "plt.title('Decision Tree Predictions vs Actuals')\n",
    "plt.xlabel('Actual Labels')\n",
    "plt.ylabel('Predicted Labels')\n",
    "plt.show()"
   ]
  },
  {
   "cell_type": "code",
   "execution_count": 157,
   "metadata": {},
   "outputs": [],
   "source": [
    "# Prepare the data for modeling\n",
    "X = Real_Estate_data_df.drop(['price', 'city', 'state', 'prev_sold_date'], axis=1, errors='ignore')\n",
    "y = Real_Estate_data_df['price']\n"
   ]
  },
  {
   "cell_type": "code",
   "execution_count": 158,
   "metadata": {},
   "outputs": [],
   "source": [
    "# Split the data into training and testing sets\n",
    "X_train, X_test, y_train, y_test = train_test_split(X, y, test_size=0.2, random_state=42)\n"
   ]
  },
  {
   "cell_type": "code",
   "execution_count": 159,
   "metadata": {},
   "outputs": [],
   "source": [
    "# Hyperparameters to tune\n",
    "param_grid = {\n",
    "    'dt__max_depth': [None, 10, 20, 30, 40, 50],\n",
    "    'dt__min_samples_split': [2, 5, 10],\n",
    "    'dt__min_samples_leaf': [1, 2, 4]\n",
    "}"
   ]
  },
  {
   "cell_type": "markdown",
   "metadata": {},
   "source": [
    "#Check correlation between features and price.\n",
    "Select Relevant Features: Focus on numerical features such as bed, bath, acre_lot, house_size, etc.\n",
    "Compute Correlation Coefficients: Use Pearson correlation to measure the linear relationship between price and each feature.\n",
    "Visualize Correlations: Optionally, visualize the correlations using a heatmap for a more intuitive understanding."
   ]
  },
  {
   "cell_type": "code",
   "execution_count": 17,
   "metadata": {},
   "outputs": [],
   "source": [
    "# Compute the correlation matrix for numerical features including 'price'\n",
    "numerical_features = ['price', 'bed', 'bath', 'acre_lot', 'house_size']"
   ]
  },
  {
   "cell_type": "code",
   "execution_count": 18,
   "metadata": {},
   "outputs": [],
   "source": [
    "# Ensure all required features exist in the dataset\n",
    "available_features = [feature for feature in numerical_features if feature in Real_Estate_data_df.columns]\n"
   ]
  },
  {
   "cell_type": "code",
   "execution_count": 19,
   "metadata": {},
   "outputs": [],
   "source": [
    "# Calculate the correlation matrix\n",
    "correlation_matrix = Real_Estate_data_df[available_features].corr()\n"
   ]
  },
  {
   "cell_type": "code",
   "execution_count": 20,
   "metadata": {},
   "outputs": [
    {
     "name": "stdout",
     "output_type": "stream",
     "text": [
      "Correlation of features with 'price':\n",
      "price         1.000000\n",
      "house_size    0.601049\n",
      "bath          0.523329\n",
      "acre_lot      0.400369\n",
      "bed           0.291552\n",
      "Name: price, dtype: float64\n"
     ]
    }
   ],
   "source": [
    "# Display the correlation with 'price'\n",
    "print(\"Correlation of features with 'price':\")\n",
    "print(correlation_matrix['price'].sort_values(ascending=False))"
   ]
  },
  {
   "cell_type": "code",
   "execution_count": 21,
   "metadata": {},
   "outputs": [
    {
     "data": {
      "image/png": "[encoded data removed]",
      "text/plain": [
       "<Figure size 1000x600 with 2 Axes>"
      ]
     },
     "metadata": {},
     "output_type": "display_data"
    }
   ],
   "source": [
    "#  Visualize the correlation matrix using a heatmap The more features higher price\n",
    "plt.figure(figsize=(10, 6))\n",
    "sns.heatmap(correlation_matrix, annot=True, cmap='coolwarm', vmin=-1, vmax=1)\n",
    "plt.title('Correlation Matrix of Real Estate Features')\n",
    "plt.show()"
   ]
  },
  {
   "cell_type": "markdown",
   "metadata": {},
   "source": [
    "#Feature Techniques\n",
    "\n",
    "Creating Interaction Features: Generate new features by combining existing ones. For example, bed * bath could capture the effect of having more bathrooms per bedroom.\n",
    "Log Transformation: Apply log transformation to skewed features like price or house_size to reduce the effect of outliers and normalize the distribution.\n",
    "Binning: Convert continuous features into categorical features (bins). For example, you can bin house_size into categories like 'small', 'medium', and 'large'.\n",
    "Feature Scaling: Normalize or standardize features like acre_lot and house_size to ensure all features contribute equally to the model.\n",
    "Date Features Extraction: If prev_sold_date or similar date features are available, extract useful information like years_since_last_sold.\n",
    "Geospatial Features: If latitude and longitude data are available, calculate proximity to landmarks or the city center."
   ]
  },
  {
   "cell_type": "code",
   "execution_count": 22,
   "metadata": {},
   "outputs": [],
   "source": [
    "# Step 1: Creating Interaction Features\n",
    "Real_Estate_data_df['bed_bath_ratio'] = Real_Estate_data_df['bed'] / (Real_Estate_data_df['bath'] + 1)  # Adding 1 to avoid division by zero\n",
    "Real_Estate_data_df['bedrooms_times_bathrooms'] = Real_Estate_data_df['bed'] * Real_Estate_data_df['bath']\n"
   ]
  },
  {
   "cell_type": "code",
   "execution_count": 23,
   "metadata": {},
   "outputs": [],
   "source": [
    "# Step 2: Log Transformation to Handle Skewness\n",
    "Real_Estate_data_df['log_price'] = np.log1p(Real_Estate_data_df['price'])  # log1p to handle zero values\n"
   ]
  },
  {
   "cell_type": "code",
   "execution_count": 24,
   "metadata": {},
   "outputs": [],
   "source": [
    "# Step 3: Binning 'house_size' into categories\n",
    "bins = [0, 1000, 2000, 3000, np.inf]\n",
    "labels = ['small', 'medium', 'large', 'extra_large']\n",
    "Real_Estate_data_df['house_size_category'] = pd.cut(Real_Estate_data_df['house_size'], bins=bins, labels=labels)\n"
   ]
  },
  {
   "cell_type": "code",
   "execution_count": 25,
   "metadata": {},
   "outputs": [],
   "source": [
    "# One-hot encode the new categorical feature\n",
    "Real_Estate_data_df = pd.get_dummies(Real_Estate_data_df, columns=['house_size_category'], drop_first=True)\n",
    " \n"
   ]
  },
  {
   "cell_type": "code",
   "execution_count": 26,
   "metadata": {},
   "outputs": [],
   "source": [
    "# Step 4: Feature Scaling - Standardize 'acre_lot' and 'house_size'\n",
    "from sklearn.preprocessing import StandardScaler\n",
    "\n",
    "scaler = StandardScaler()\n",
    "Real_Estate_data_df[['acre_lot_scaled', 'house_size_scaled']] = scaler.fit_transform(Real_Estate_data_df[['acre_lot', 'house_size']])"
   ]
  },
  {
   "cell_type": "code",
   "execution_count": 27,
   "metadata": {},
   "outputs": [
    {
     "name": "stdout",
     "output_type": "stream",
     "text": [
      "   brokered_by    status    price  bed  bath  acre_lot    street       city  \\\n",
      "0      33968.0  for_sale  99000.0  1.0   1.0       5.0   49388.0  Terlingua   \n",
      "1      88188.0  for_sale  58800.0  NaN   NaN       1.0  841041.0     Orange   \n",
      "2      88188.0  for_sale  58800.0  NaN   NaN       1.0  844563.0     Orange   \n",
      "3      88188.0  for_sale  58800.0  NaN   NaN       1.0  845421.0     Orange   \n",
      "4      88188.0  for_sale  58800.0  NaN   NaN       1.0  859147.0     Orange   \n",
      "\n",
      "   state zip_code  house_size prev_sold_date  bed_bath_ratio  \\\n",
      "0  Texas    79852       600.0            NaN             0.5   \n",
      "1  Texas    77632         NaN            NaN             NaN   \n",
      "2  Texas    77632         NaN            NaN             NaN   \n",
      "3  Texas    77632         NaN            NaN             NaN   \n",
      "4  Texas    77632         NaN            NaN             NaN   \n",
      "\n",
      "   bedrooms_times_bathrooms  log_price  house_size_category_medium  \\\n",
      "0                       1.0  11.502885                       False   \n",
      "1                       NaN  10.981914                       False   \n",
      "2                       NaN  10.981914                       False   \n",
      "3                       NaN  10.981914                       False   \n",
      "4                       NaN  10.981914                       False   \n",
      "\n",
      "   house_size_category_large  house_size_category_extra_large  \\\n",
      "0                      False                            False   \n",
      "1                      False                            False   \n",
      "2                      False                            False   \n",
      "3                      False                            False   \n",
      "4                      False                            False   \n",
      "\n",
      "   acre_lot_scaled  house_size_scaled  \n",
      "0        -0.062267          -1.241028  \n",
      "1        -0.099832                NaN  \n",
      "2        -0.099832                NaN  \n",
      "3        -0.099832                NaN  \n",
      "4        -0.099832                NaN  \n"
     ]
    }
   ],
   "source": [
    "# Step 5: Date Features Extraction - Example (if 'prev_sold_date' exists and is useful)\n",
    "# Uncomment below lines if 'prev_sold_date' is useful for analysis\n",
    "# real_estate_data['prev_sold_date'] = pd.to_datetime(real_estate_data['prev_sold_date'])\n",
    "# real_estate_data['years_since_last_sold'] = (pd.Timestamp.now() - real_estate_data['prev_sold_date']).dt.days / 365\n",
    "\n",
    "# Display the enhanced dataset\n",
    "print(Real_Estate_data_df.head())\n",
    "\n",
    "\n",
    "# Proceed to retrain the model with these enhanced features\n",
    "\n",
    "#NEED CODE TO REMOVE NaN"
   ]
  },
  {
   "cell_type": "code",
   "execution_count": 28,
   "metadata": {},
   "outputs": [],
   "source": [
    "\n",
    "# Assume the 'real_estate_data' DataFrame is already prepared with all necessary preprocessing\n",
    "# Define the target variable and features\n",
    "X = Real_Estate_data_df.drop(['price'], axis=1)  # Features\n",
    "y = Real_Estate_data_df['price']  # Target variable"
   ]
  },
  {
   "cell_type": "code",
   "execution_count": 29,
   "metadata": {},
   "outputs": [
    {
     "name": "stdout",
     "output_type": "stream",
     "text": [
      "   is_fort_worth\n",
      "0            0.0\n",
      "1            0.0\n",
      "2            0.0\n",
      "3            0.0\n",
      "4            0.0\n"
     ]
    }
   ],
   "source": [
    "# Check if 'city' is in the DataFrame columns\n",
    "if 'city' in Real_Estate_data_df.columns:\n",
    "    # Convert 'city' to a float where 'Fort Worth' is 1.0 and other cities are 0.0\n",
    "    Real_Estate_data_df['is_fort_worth'] = Real_Estate_data_df['city'].apply(lambda x: 1.0 if x == 'Fort Worth' else 0.0)\n",
    "\n",
    "    # Optional: Drop the original 'city' column if it's no longer needed\n",
    "    Real_Estate_data_df.drop('city', axis=1, inplace=True)\n",
    "\n",
    "# Display the first few rows to verify the conversion\n",
    "print(Real_Estate_data_df[['is_fort_worth']].head())"
   ]
  },
  {
   "cell_type": "code",
   "execution_count": 30,
   "metadata": {},
   "outputs": [
    {
     "name": "stdout",
     "output_type": "stream",
     "text": [
      "   is_texas\n",
      "0       1.0\n",
      "1       1.0\n",
      "2       1.0\n",
      "3       1.0\n",
      "4       1.0\n"
     ]
    }
   ],
   "source": [
    "# Check if 'state' is in the DataFrame columns\n",
    "if 'state' in Real_Estate_data_df.columns:\n",
    "    # Convert 'state' to a float where 'Texas' is 1.0 and other states are 0.0\n",
    "    Real_Estate_data_df['is_texas'] = Real_Estate_data_df['state'].apply(lambda x: 1.0 if x == 'Texas' else 0.0)\n",
    "\n",
    "    # Optional: Drop the original 'state' column if it's no longer needed\n",
    "    Real_Estate_data_df.drop('state', axis=1, inplace=True)\n",
    "\n",
    "# Display the first few rows to verify the conversion\n",
    "print(Real_Estate_data_df[['is_texas']].head())"
   ]
  },
  {
   "cell_type": "code",
   "execution_count": 31,
   "metadata": {},
   "outputs": [
    {
     "name": "stdout",
     "output_type": "stream",
     "text": [
      "Converted float value for date '2007-04-12': 13615.0\n"
     ]
    }
   ],
   "source": [
    "\n",
    "\n",
    "# Convert the date string to a datetime object\n",
    "date_to_convert = '2007-04-12'\n",
    "reference_date = pd.to_datetime('1970-01-01')\n",
    "\n",
    "# Calculate the number of days since the reference date\n",
    "days_since_reference = (pd.to_datetime(date_to_convert) - reference_date).days\n",
    "\n",
    "# Convert the result to float\n",
    "days_since_reference_float = float(days_since_reference)\n",
    "\n",
    "print(f\"Converted float value for date '{date_to_convert}': {days_since_reference_float}\")"
   ]
  },
  {
   "cell_type": "code",
   "execution_count": 32,
   "metadata": {},
   "outputs": [],
   "source": [
    "\n",
    "# Step 1: Prepare the Data\n",
    "# The DataFrame 'real_estate_data' is already preprocessed, and 'for_sale' is converted to float\n",
    "# Define features and target variable\n",
    "X =  Real_Estate_data_df.drop(['price'], axis=1)  # Features (excluding the target 'price')\n",
    "y =  Real_Estate_data_df['price']  # Target variable\n"
   ]
  },
  {
   "cell_type": "code",
   "execution_count": 40,
   "metadata": {},
   "outputs": [],
   "source": [
    "# Step 2: Split the Data into Training and Testing Sets\n",
    "X_train, X_test, y_train, y_test = train_test_split(X, y, test_size=0.2, random_state=42)\n"
   ]
  },
  {
   "cell_type": "code",
   "execution_count": 34,
   "metadata": {},
   "outputs": [],
   "source": [
    "\n",
    "# Step 3: Initialize the Decision Tree Regressor\n",
    "# Create a DecisionTreeRegressor instance with default hyperparameters\n",
    "model = DecisionTreeRegressor(random_state=42)\n"
   ]
  },
  {
   "cell_type": "code",
   "execution_count": 36,
   "metadata": {},
   "outputs": [],
   "source": [
    "# Step 2: Train-Test Split\n",
    "X_train, X_test, y_train, y_test = train_test_split(X, y, test_size=0.2, random_state=42)\n"
   ]
  },
  {
   "cell_type": "code",
   "execution_count": 38,
   "metadata": {},
   "outputs": [],
   "source": [
    "# Step 3: Train the Decision Tree Model\n",
    "model = DecisionTreeRegressor(random_state=42)\n",
    "\n"
   ]
  },
  {
   "cell_type": "code",
   "execution_count": 330,
   "metadata": {},
   "outputs": [],
   "source": [
    "#Retraining the Model\n",
    "# Step 1: Prepare the Enhanced Dataset\n",
    "# Define the target variable and features (using the enhanced feature set)\n",
    "X = Real_Estate_data_df.drop(['price'], axis=1)  # Exclude only the original 'price' for prediction\n",
    "y = Real_Estate_data_df['price']  # Use the original 'price' as target\n"
   ]
  },
  {
   "cell_type": "code",
   "execution_count": 331,
   "metadata": {},
   "outputs": [],
   "source": [
    "# Step 2: Data Splitting\n",
    "X_train, X_test, y_train, y_test = train_test_split(X, y, test_size=0.2, random_state=42)\n"
   ]
  },
  {
   "cell_type": "code",
   "execution_count": 316,
   "metadata": {},
   "outputs": [],
   "source": [
    "# Convert the 'status' feature into a binary format\n",
    "# Assuming 'status' has values like 'for_sale', 'sold', etc.\n",
    "Real_Estate_data_df['for_sale'] = (Real_Estate_data_df['status'] == 'for_sale').astype(float)\n"
   ]
  },
  {
   "cell_type": "code",
   "execution_count": 292,
   "metadata": {},
   "outputs": [
    {
     "name": "stdout",
     "output_type": "stream",
     "text": [
      "   brokered_by    price  bed  bath  acre_lot    street       city  state  \\\n",
      "0      33968.0  99000.0  1.0   1.0       5.0   49388.0  Terlingua  Texas   \n",
      "1      88188.0  58800.0  NaN   NaN       1.0  841041.0     Orange  Texas   \n",
      "2      88188.0  58800.0  NaN   NaN       1.0  844563.0     Orange  Texas   \n",
      "3      88188.0  58800.0  NaN   NaN       1.0  845421.0     Orange  Texas   \n",
      "4      88188.0  58800.0  NaN   NaN       1.0  859147.0     Orange  Texas   \n",
      "\n",
      "   zip_code  house_size prev_sold_date  bed_bath_ratio  \\\n",
      "0     79852       600.0            NaN             0.5   \n",
      "1     77632         NaN            NaN             NaN   \n",
      "2     77632         NaN            NaN             NaN   \n",
      "3     77632         NaN            NaN             NaN   \n",
      "4     77632         NaN            NaN             NaN   \n",
      "\n",
      "   bedrooms_times_bathrooms  log_price  house_size_category_medium  \\\n",
      "0                       1.0  11.502885                       False   \n",
      "1                       NaN  10.981914                       False   \n",
      "2                       NaN  10.981914                       False   \n",
      "3                       NaN  10.981914                       False   \n",
      "4                       NaN  10.981914                       False   \n",
      "\n",
      "   house_size_category_large  house_size_category_extra_large  \\\n",
      "0                      False                            False   \n",
      "1                      False                            False   \n",
      "2                      False                            False   \n",
      "3                      False                            False   \n",
      "4                      False                            False   \n",
      "\n",
      "   acre_lot_scaled  house_size_scaled  for_sale  \n",
      "0        -0.062267          -1.241028       1.0  \n",
      "1        -0.099832                NaN       1.0  \n",
      "2        -0.099832                NaN       1.0  \n",
      "3        -0.099832                NaN       1.0  \n",
      "4        -0.099832                NaN       1.0  \n"
     ]
    }
   ],
   "source": [
    "# Display the first few rows to check the changes\n",
    "print(Real_Estate_data_df.head())"
   ]
  },
  {
   "cell_type": "markdown",
   "metadata": {},
   "source": [
    "log transformation and work directly with the original price feature. We will retrain the model using the original price as the target variable.\n",
    "retrain and evaluate the model using the original price. "
   ]
  },
  {
   "cell_type": "code",
   "execution_count": null,
   "metadata": {},
   "outputs": [
    {
     "data": {
      "text/plain": [
       "status\n",
       "for_sale          38497\n",
       "ready_to_build     1614\n",
       "Name: count, dtype: int64"
      ]
     },
     "execution_count": 54,
     "metadata": {},
     "output_type": "execute_result"
    }
   ],
   "source": [
    "# Check the value_counts of the target column\n",
    "Real_Estate_data_df [\"status\"].value_counts()"
   ]
  },
  {
   "cell_type": "code",
   "execution_count": null,
   "metadata": {},
   "outputs": [
    {
     "data": {
      "text/plain": [
       "house_size\n",
       "1800.0    106\n",
       "1200.0    102\n",
       "1216.0     95\n",
       "1500.0     90\n",
       "1600.0     90\n",
       "         ... \n",
       "2993.0      1\n",
       "6883.0      1\n",
       "3431.0      1\n",
       "7891.0      1\n",
       "4345.0      1\n",
       "Name: count, Length: 4444, dtype: int64"
      ]
     },
     "execution_count": 55,
     "metadata": {},
     "output_type": "execute_result"
    }
   ],
   "source": [
    "#House Size Value Counts\n",
    "Real_Estate_data_df['house_size'].value_counts()"
   ]
  },
  {
   "cell_type": "code",
   "execution_count": null,
   "metadata": {},
   "outputs": [
    {
     "data": {
      "text/plain": [
       "brokered_by       float64\n",
       "status             object\n",
       "price             float64\n",
       "bed               float64\n",
       "bath              float64\n",
       "acre_lot          float64\n",
       "street            float64\n",
       "city               object\n",
       "state              object\n",
       "zip_code            int64\n",
       "house_size        float64\n",
       "prev_sold_date     object\n",
       "dtype: object"
      ]
     },
     "execution_count": 56,
     "metadata": {},
     "output_type": "execute_result"
    }
   ],
   "source": [
    "Real_Estate_data_df.dtypes"
   ]
  },
  {
   "cell_type": "code",
   "execution_count": null,
   "metadata": {},
   "outputs": [
    {
     "name": "stderr",
     "output_type": "stream",
     "text": [
      "C:\\Users\\Nat\\AppData\\Local\\Temp\\ipykernel_23760\\3474507067.py:3: FutureWarning: A value is trying to be set on a copy of a DataFrame or Series through chained assignment using an inplace method.\n",
      "The behavior will change in pandas 3.0. This inplace method will never work because the intermediate object on which we are setting values always behaves as a copy.\n",
      "\n",
      "For example, when doing 'df[col].method(value, inplace=True)', try using 'df.method({col: value}, inplace=True)' or df[col] = df[col].method(value) instead, to perform the operation inplace on the original object.\n",
      "\n",
      "\n",
      "  Real_Estate_data_df[column].fillna(Real_Estate_data_df[column].median(), inplace=True)\n"
     ]
    }
   ],
   "source": [
    "# Fill missing numerical values with median\n",
    "for column in ['bed', 'bath', 'acre_lot', 'house_size']:\n",
    "    Real_Estate_data_df[column].fillna(Real_Estate_data_df[column].median(), inplace=True)\n",
    " "
   ]
  },
  {
   "cell_type": "code",
   "execution_count": 211,
   "metadata": {},
   "outputs": [
    {
     "data": {
      "text/html": [
       "<div>\n",
       "<style scoped>\n",
       "    .dataframe tbody tr th:only-of-type {\n",
       "        vertical-align: middle;\n",
       "    }\n",
       "\n",
       "    .dataframe tbody tr th {\n",
       "        vertical-align: top;\n",
       "    }\n",
       "\n",
       "    .dataframe thead th {\n",
       "        text-align: right;\n",
       "    }\n",
       "</style>\n",
       "<table border=\"1\" class=\"dataframe\">\n",
       "  <thead>\n",
       "    <tr style=\"text-align: right;\">\n",
       "      <th></th>\n",
       "      <th>city</th>\n",
       "      <th>house_size</th>\n",
       "    </tr>\n",
       "  </thead>\n",
       "  <tbody>\n",
       "    <tr>\n",
       "      <th>318</th>\n",
       "      <td>Hudson Oaks</td>\n",
       "      <td>16408.000000</td>\n",
       "    </tr>\n",
       "    <tr>\n",
       "      <th>686</th>\n",
       "      <td>Westover Hills</td>\n",
       "      <td>7944.000000</td>\n",
       "    </tr>\n",
       "    <tr>\n",
       "      <th>684</th>\n",
       "      <td>Westlake</td>\n",
       "      <td>7697.666667</td>\n",
       "    </tr>\n",
       "    <tr>\n",
       "      <th>325</th>\n",
       "      <td>Industry</td>\n",
       "      <td>7299.000000</td>\n",
       "    </tr>\n",
       "    <tr>\n",
       "      <th>26</th>\n",
       "      <td>Aurora</td>\n",
       "      <td>6546.500000</td>\n",
       "    </tr>\n",
       "    <tr>\n",
       "      <th>...</th>\n",
       "      <td>...</td>\n",
       "      <td>...</td>\n",
       "    </tr>\n",
       "    <tr>\n",
       "      <th>679</th>\n",
       "      <td>Weinert</td>\n",
       "      <td>NaN</td>\n",
       "    </tr>\n",
       "    <tr>\n",
       "      <th>689</th>\n",
       "      <td>Wheelock</td>\n",
       "      <td>NaN</td>\n",
       "    </tr>\n",
       "    <tr>\n",
       "      <th>703</th>\n",
       "      <td>Windthorst</td>\n",
       "      <td>NaN</td>\n",
       "    </tr>\n",
       "    <tr>\n",
       "      <th>704</th>\n",
       "      <td>Winfield</td>\n",
       "      <td>NaN</td>\n",
       "    </tr>\n",
       "    <tr>\n",
       "      <th>713</th>\n",
       "      <td>Youngsport</td>\n",
       "      <td>NaN</td>\n",
       "    </tr>\n",
       "  </tbody>\n",
       "</table>\n",
       "<p>716 rows × 2 columns</p>\n",
       "</div>"
      ],
      "text/plain": [
       "               city    house_size\n",
       "318     Hudson Oaks  16408.000000\n",
       "686  Westover Hills   7944.000000\n",
       "684        Westlake   7697.666667\n",
       "325        Industry   7299.000000\n",
       "26           Aurora   6546.500000\n",
       "..              ...           ...\n",
       "679         Weinert           NaN\n",
       "689        Wheelock           NaN\n",
       "703      Windthorst           NaN\n",
       "704        Winfield           NaN\n",
       "713      Youngsport           NaN\n",
       "\n",
       "[716 rows x 2 columns]"
      ]
     },
     "execution_count": 211,
     "metadata": {},
     "output_type": "execute_result"
    }
   ],
   "source": [
    "\n",
    "#House Size by City\n",
    "Real_Estate_data_df.groupby('city', as_index=False).agg({'house_size' : 'mean'}).sort_values('house_size', ascending=False)"
   ]
  },
  {
   "cell_type": "code",
   "execution_count": 212,
   "metadata": {},
   "outputs": [],
   "source": [
    "X = Real_Estate_data_df[['bed', 'bath', 'acre_lot', 'zip_code', 'house_size', 'city', 'state']]\n",
    "y = Real_Estate_data_df['price']\n",
    "\n",
    "# one-hot encode the categorical features\n",
    "X = pd.get_dummies(X, columns=['city'])\n",
    "\n",
    "# split the data into training and testing sets\n",
    "X_train, X_test, y_train, y_test = train_test_split(X, y, test_size=0.2, random_state=42)\n"
   ]
  },
  {
   "cell_type": "code",
   "execution_count": 213,
   "metadata": {},
   "outputs": [],
   "source": [
    "city_median_prices = Real_Estate_data_df.groupby('city')['price'].median().reset_index()\n",
    "city_median_prices_median_prices_sorted = city_median_prices.sort_values(by='price')"
   ]
  }
 ],
 "metadata": {
  "kernelspec": {
   "display_name": "dev",
   "language": "python",
   "name": "python3"
  },
  "language_info": {
   "codemirror_mode": {
    "name": "ipython",
    "version": 3
   },
   "file_extension": ".py",
   "mimetype": "text/x-python",
   "name": "python",
   "nbconvert_exporter": "python",
   "pygments_lexer": "ipython3",
   "version": "3.10.14"
  }
 },
 "nbformat": 4,
 "nbformat_minor": 2
}
